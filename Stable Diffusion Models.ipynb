{
  "cells": [
    {
      "cell_type": "markdown",
      "metadata": {
        "id": "3BX81QQxAaYa"
      },
      "source": [
        "# Lab : Introduction to Stable Diffusion Models"
      ]
    },
    {
      "cell_type": "markdown",
      "metadata": {
        "id": "c2KTWGfmAgXv"
      },
      "source": [
        "---"
      ]
    },
    {
      "cell_type": "markdown",
      "metadata": {
        "id": "YjWkwaVOAhbM"
      },
      "source": [
        "## Objective\n",
        "\n",
        "- Understand how neural networks can approximate the inverse of a function.\n",
        "- Explore diffusion models and their applications in image generation.\n",
        "- Implement a basic diffusion model to generate images."
      ]
    },
    {
      "cell_type": "markdown",
      "metadata": {
        "id": "lcvPDTFQAmy8"
      },
      "source": [
        "---"
      ]
    },
    {
      "cell_type": "markdown",
      "metadata": {
        "id": "HpI8F7geAoeP"
      },
      "source": [
        "## Part 1: Preliminary Activity - Neural Network for Function Inversion Concept"
      ]
    },
    {
      "cell_type": "markdown",
      "metadata": {
        "id": "JquMkNgkAxBV"
      },
      "source": [
        "> Neural networks can approximate complex functions, but can they learn to estimate the inverse\n",
        "of a function? We'll test this by training a model to approximate the inverse of y=sin(x), i.e.,\n",
        "x=arcsin(y)."
      ]
    },
    {
      "cell_type": "markdown",
      "metadata": {
        "id": "eTPbZ1dWA3JS"
      },
      "source": [
        "### **Steps**"
      ]
    },
    {
      "cell_type": "markdown",
      "metadata": {
        "id": "sgEqZ3FuA6n6"
      },
      "source": [
        "1. Generate Dataset:\n",
        "- Sample x values in the range [−1,1].\n",
        "- Compute y=sin(x).\n",
        "- The training goal is to predict x given y."
      ]
    },
    {
      "cell_type": "code",
      "execution_count": null,
      "metadata": {
        "id": "a-KCnEseJDdv"
      },
      "outputs": [],
      "source": [
        "import numpy as np\n",
        "import matplotlib.pyplot as plt\n",
        "from tensorflow.keras.models import Sequential\n",
        "from tensorflow.keras.layers import Dense\n",
        "from tensorflow.keras.optimizers import Adam\n",
        "from sklearn.metrics import mean_squared_error\n",
        "from tqdm.keras import TqdmCallback"
      ]
    },
    {
      "cell_type": "code",
      "execution_count": null,
      "metadata": {
        "colab": {
          "base_uri": "https://localhost:8080/",
          "height": 410
        },
        "id": "HJwTaVhIB_wK",
        "outputId": "e4f93d21-218b-406c-ee8a-7d79b1ff2e00"
      },
      "outputs": [
        {
          "data": {
            "image/png": "[encoded data removed]",
            "text/plain": [
              "<Figure size 600x400 with 1 Axes>"
            ]
          },
          "metadata": {},
          "output_type": "display_data"
        }
      ],
      "source": [
        "# Generate 200 points in the interval [-1, 1]\n",
        "x = np.linspace(-1, 1, 200)\n",
        "y = np.sin(x)\n",
        "\n",
        "# For verification, the true \"inverse function\" would be:\n",
        "x_true = np.arcsin(y)  # Here, x_true == x because x ∈ [-1, 1] ⊂ [-π/2, π/2]\n",
        "\n",
        "plt.figure(figsize=(6,4))\n",
        "plt.plot(x, y, 'o', label='Data (x, sin(x))')\n",
        "plt.xlabel('x')\n",
        "plt.ylabel('y = sin(x)')\n",
        "plt.legend()\n",
        "plt.title(\"Dataset Generation\")\n",
        "plt.show()\n"
      ]
    },
    {
      "cell_type": "markdown",
      "metadata": {
        "id": "SLTELTRZCJqz"
      },
      "source": [
        "2. Train a Neural Network:\n",
        "- Input: y values.\n",
        "- Output: x values (i.e., trying to learn arcsin(y)).\n",
        "- Architecture: A simple MLP with:\n",
        "1. input neuron (for y),\n",
        "2. hidden layers (e.g., 3 neurons, ReLU activation),1 output neuron (for x)."
      ]
    },
    {
      "cell_type": "code",
      "execution_count": null,
      "metadata": {
        "colab": {
          "base_uri": "https://localhost:8080/",
          "height": 105,
          "referenced_widgets": [
            "f2c9b88e05654ebe980513b78d453e73",
            "8f576a43c1b748a0a53a4b099051c16c",
            "6aa3ccd6a70447e18c7906dfba5f3009",
            "dc1269b61a2043d49fc1096d4a87615b",
            "bb879368f8b9459a9ba7f0c34c3784fb",
            "81b1911a4a064d7f884fbccc973d1c30",
            "6ac892598bce4062a4e3094f67e4c77f",
            "7c7496956e6b4bb1bf2fc0d55b2f1535",
            "d2d56f9c5e7a430b9a3d058a361ec858",
            "f7a6e84a46834e878d56a8c3e1f27139",
            "9b764ab38d1d41a5b3929071cb1ee5ac",
            "fc0e849892ce4a07b0976fdf4c2c010d",
            "752ba833f3c24391a05e0a6dfece63b7",
            "0541d45553a24fd3bb505168917eaa58",
            "10b033e5860c4c2083b3137da5e0ae6f",
            "125de5d55aa743ed892a0d8282a916f2",
            "b01bd672a7874b598e051db938a86f91",
            "625830fbd7064ed9b62ee444320a7c37",
            "af269babc106416f986769c6bc529563",
            "56a89355a5e2413db827899cc4f56a36",
            "2322fc47e1ea4387b8c4f20353b58312",
            "a59f09181c2e40f4b2063add500ce1db"
          ]
        },
        "id": "R7mBYnUTCN5H",
        "outputId": "f506161c-61f8-4267-cd4a-33b8feffa1a2"
      },
      "outputs": [
        {
          "name": "stderr",
          "output_type": "stream",
          "text": [
            "/usr/local/lib/python3.11/dist-packages/keras/src/layers/core/dense.py:87: UserWarning: Do not pass an `input_shape`/`input_dim` argument to a layer. When using Sequential models, prefer using an `Input(shape)` object as the first layer in the model instead.\n",
            "  super().__init__(activity_regularizer=activity_regularizer, **kwargs)\n"
          ]
        },
        {
          "data": {
            "application/vnd.jupyter.widget-view+json": {
              "model_id": "f2c9b88e05654ebe980513b78d453e73",
              "version_major": 2,
              "version_minor": 0
            },
            "text/plain": [
              "0epoch [00:00, ?epoch/s]"
            ]
          },
          "metadata": {},
          "output_type": "display_data"
        },
        {
          "data": {
            "application/vnd.jupyter.widget-view+json": {
              "model_id": "fc0e849892ce4a07b0976fdf4c2c010d",
              "version_major": 2,
              "version_minor": 0
            },
            "text/plain": [
              "0batch [00:00, ?batch/s]"
            ]
          },
          "metadata": {},
          "output_type": "display_data"
        }
      ],
      "source": [
        "# Model construction\n",
        "model = Sequential([\n",
        "    Dense(3, activation='relu', input_dim=1),\n",
        "    Dense(1)  # Linear output layer\n",
        "])\n",
        "\n",
        "# Model compilation\n",
        "model.compile(optimizer=Adam(learning_rate=0.01), loss='mse')\n",
        "\n",
        "# Training with TqdmCallback to monitor progress\n",
        "history = model.fit(\n",
        "    y, x,\n",
        "    epochs=500,\n",
        "    verbose=0,\n",
        "    callbacks=[TqdmCallback(verbose=1)]\n",
        ")"
      ]
    },
    {
      "cell_type": "markdown",
      "metadata": {
        "id": "8GMl8Vp3ERb4"
      },
      "source": [
        "A single hidden layer is sufficient because the inverse sine function (arcsine) is relatively simple and monotonic over the limited domain\n",
        "[\n",
        "−\n",
        "1\n",
        ",\n",
        "1\n",
        "]\n",
        "[−1,1]. According to the universal approximation theorem, even a single-layer network can approximate a wide range of continuous functions on a compact interval. Since we only need to capture a one-dimensional mapping (from\n",
        "sin\n",
        "⁡\n",
        "(\n",
        "𝑥\n",
        ")\n",
        "sin(x) back to\n",
        "𝑥\n",
        "x), this simple architecture provides enough capacity to learn the required relationship without unnecessary complexity, reducing the risk of overfitting and keeping the model both efficient and easy to train."
      ]
    },
    {
      "cell_type": "markdown",
      "metadata": {
        "id": "cVIur3Q2Cz9k"
      },
      "source": [
        "3. Evaluate the Model:\n",
        "- Plot predicted x vs true arcsin(y).\n",
        "- Measure Mean Squared Error (MSE).\n",
        "- Discuss how well the network learns the inverse."
      ]
    },
    {
      "cell_type": "code",
      "execution_count": null,
      "metadata": {
        "colab": {
          "base_uri": "https://localhost:8080/",
          "height": 446
        },
        "id": "bfF89y2nC6V4",
        "outputId": "f1a76d68-69bc-4cf8-bd54-d55c55212825"
      },
      "outputs": [
        {
          "name": "stdout",
          "output_type": "stream",
          "text": [
            "\u001b[1m7/7\u001b[0m \u001b[32m━━━━━━━━━━━━━━━━━━━━\u001b[0m\u001b[37m\u001b[0m \u001b[1m0s\u001b[0m 18ms/step\n",
            "MSE: 0.0007180905069148852\n"
          ]
        },
        {
          "data": {
            "image/png": "[encoded data removed]",
            "text/plain": [
              "<Figure size 600x400 with 1 Axes>"
            ]
          },
          "metadata": {},
          "output_type": "display_data"
        }
      ],
      "source": [
        "# Model prediction\n",
        "x_pred = model.predict(y)\n",
        "\n",
        "# Compute the MSE\n",
        "mse = mean_squared_error(x, x_pred)\n",
        "print(\"MSE:\", mse)\n",
        "\n",
        "# Plot the results\n",
        "plt.figure(figsize=(6,4))\n",
        "plt.plot(x, x, label='True value (x)', linestyle='--')\n",
        "plt.plot(x, x_pred, 'o', label='Model prediction')\n",
        "plt.xlabel('x (true value)')\n",
        "plt.ylabel('x (predicted)')\n",
        "plt.title(\"Comparison: Prediction vs True Value\")\n",
        "plt.legend()\n",
        "plt.show()"
      ]
    },
    {
      "cell_type": "markdown",
      "metadata": {
        "id": "rCo1wEXxFOjR"
      },
      "source": [
        "The network successfully learns the inverse of the sine function over the range\n",
        "[\n",
        "−\n",
        "1\n",
        ",\n",
        "1\n",
        "]\n",
        "[−1,1]. The plot shows that the predicted values closely match the true\n",
        "𝑥\n",
        "x values, and the very low MSE (0.0007180905069148852 ) confirms the accuracy of the model’s predictions. This demonstrates that even a simple MLP with two hidden layers is sufficient to approximate the inverse\n",
        "𝑥\n",
        "=\n",
        "arcsin\n",
        "⁡\n",
        "(\n",
        "𝑦\n",
        ")\n",
        "x=arcsin(y) in this domain."
      ]
    },
    {
      "cell_type": "markdown",
      "metadata": {
        "id": "dOIjS8E2DAgr"
      },
      "source": [
        "4. Key Discussion Points:\n",
        "\n",
        "- **What happens for values outside the range [-1,1]?**  \n",
        "   On veux garantire la bijectivité pour qu'une fonction soit inversible.\n",
        "\n",
        "- **What are the implications of approximating inverses in more complex functions?**  \n",
        "   When dealing with more complex or multi-valued functions, a single neural network may struggle to capture every possible branch of the inverse. Additional constraints or more sophisticated architectures might be needed to handle discontinuities or multiple valid outputs. Furthermore, ensuring good generalization outside the training domain becomes increasingly challenging as the function grows in complexity."
      ]
    },
    {
      "cell_type": "markdown",
      "metadata": {
        "id": "1XVLvfDxHnpt"
      },
      "source": [
        "---"
      ]
    },
    {
      "cell_type": "markdown",
      "metadata": {
        "id": "ckmp-HbGHpWD"
      },
      "source": [
        "## Part 2: Diffusion Models on Images"
      ]
    },
    {
      "cell_type": "markdown",
      "metadata": {
        "id": "n1nj3clDHqO1"
      },
      "source": [
        "Diffusion models learn to generate images by gradually denoising a noisy input. We'll implement\n",
        "a simple diffusion model to understand the process."
      ]
    },
    {
      "cell_type": "markdown",
      "metadata": {
        "id": "Mt2aSwOXHwPd"
      },
      "source": [
        "### **Steps**"
      ]
    },
    {
      "cell_type": "markdown",
      "metadata": {
        "id": "lH7TJx12IJwS"
      },
      "source": [
        "1. Understanding Diffusion:\n",
        "- The model starts with a pure noise image.\n",
        "- It gradually removes noise over multiple steps to generate a meaningful image.\n",
        "- Uses a U-Net as the denoising model."
      ]
    },
    {
      "cell_type": "markdown",
      "metadata": {
        "id": "sIcleO52IP-c"
      },
      "source": [
        "2. Dataset:\n",
        "- Use MNIST or CIFAR-10 for simplicity."
      ]
    },
    {
      "cell_type": "markdown",
      "metadata": {
        "id": "LXqiIqSgIVr0"
      },
      "source": [
        "3. Training Steps:\n",
        "- Add Gaussian noise to images at different levels.\n",
        "- Train a U-Net to predict the noise added at each step.\n",
        "- Use the trained model to iteratively denoise images."
      ]
    },
    {
      "cell_type": "markdown",
      "metadata": {
        "id": "I940qiseIZBn"
      },
      "source": [
        "4. Implementation:\n",
        "- Use PyTorch or TensorFlow.\n",
        "- Define the noise schedule.\n",
        "- Train a simple U-Net as the denoiser."
      ]
    },
    {
      "cell_type": "markdown",
      "metadata": {
        "id": "h2KT-nvxIerm"
      },
      "source": [
        "5. Inference:\n",
        "- Start with a random noise image.\n",
        "- Apply the trained model iteratively to generate a meaningful image"
      ]
    },
    {
      "cell_type": "markdown",
      "metadata": {
        "id": "Rf7mmYx2CDGg"
      },
      "source": [
        "This solution uses the knowledge explained in these research papers:\n",
        "\n",
        "- **Source that helps with the U-NET model:** [U-Net: Convolutional Networks for Biomedical Image Segmentation](https://arxiv.org/pdf/1505.04597)\n",
        "- **Source that helps with the choice of hyperparameters:** [Denoising Diffusion Probabilistic Models](https://arxiv.org/pdf/2006.11239)\n"
      ]
    },
    {
      "cell_type": "code",
      "execution_count": null,
      "metadata": {
        "id": "Ph4HRmCKjLbQ"
      },
      "outputs": [],
      "source": [
        "import tensorflow as tf\n",
        "import numpy as np\n",
        "import matplotlib.pyplot as plt"
      ]
    },
    {
      "cell_type": "code",
      "execution_count": null,
      "metadata": {
        "id": "YJhbWNycys3j"
      },
      "outputs": [],
      "source": [
        "# Loading and scaling images to the range [-1, 1]\n",
        "(x_train, _), (x_test, _) = tf.keras.datasets.mnist.load_data()\n",
        "x_train = x_train.astype(np.float32) / 127.5 - 1.0\n",
        "x_train = np.expand_dims(x_train, axis=-1)\n",
        "x_test = x_test.astype(np.float32) / 127.5 - 1.0\n",
        "x_test = np.expand_dims(x_test, axis=-1)"
      ]
    },
    {
      "cell_type": "markdown",
      "metadata": {
        "id": "AvP4tZop7_Gu"
      },
      "source": [
        "Resizing MNIST images is essential to ensure that the data fits the expected input shape for our UNet model and to standardize the pixel values for more stable training. By adding an extra channel dimension and normalizing the pixel values from [0, 255] to a range like [-1, 1], we help the network process the images more efficiently, improve numerical stability, and accelerate convergence during training."
      ]
    },
    {
      "cell_type": "code",
      "execution_count": null,
      "metadata": {
        "id": "aYw5dKrkyufx"
      },
      "outputs": [],
      "source": [
        "T = 1000  # Define the total number of diffusion steps\n",
        "beta_start = 0.0001  # Set the initial beta value for the diffusion process\n",
        "beta_end = 0.02  # Set the final beta value for the diffusion process\n",
        "betas = np.linspace(beta_start, beta_end, T, dtype=np.float32)  # Create an array of T linearly spaced beta values between beta_start and beta_end\n",
        "alphas = 1.0 - betas  # Calculate alphas as the complement of betas for each diffusion step\n",
        "alpha_bars = np.cumprod(alphas, axis=0)  # Compute the cumulative product of alphas, representing the compounded effect over steps\n",
        "alpha_bars = tf.convert_to_tensor(alpha_bars, dtype=tf.float32)  # Convert the cumulative product array to a TensorFlow tensor for compatibility with TF operations"
      ]
    },
    {
      "cell_type": "markdown",
      "metadata": {
        "id": "YdeUbzrR4ntm"
      },
      "source": [
        "**Explanation of each parameter**:\n",
        "\n",
        "**T (1000)**  \n",
        "This parameter defines the total number of diffusion steps. A higher number of steps allows for a more gradual introduction of noise, which can lead to a more stable training process and improved quality of the generated data, although it may also increase the computational cost.\n",
        "\n",
        "**beta_start (0.0001)**  \n",
        "Beta_start sets the initial noise variance for the diffusion process. Being very small at the beginning, it ensures that only a minimal amount of noise is added initially, helping to preserve the core structure of the original data.\n",
        "\n",
        "**beta_end (0.02)**  \n",
        "Beta_end determines the final noise variance at the last diffusion step. A higher final value indicates that more noise is added by the end of the process, which is essential for progressively perturbing the data in a controlled manner throughout the diffusion process.\n",
        "\n",
        "**betas**  \n",
        "The betas array is created by linearly interpolating between beta_start and beta_end over T steps. It provides a schedule for the noise variance applied at each step, ensuring a smooth transition from the initial to the final noise level.\n",
        "\n",
        "**alphas**  \n",
        "Calculated as the complement of betas (1 - beta), alphas represent the proportion of the original signal that remains after noise is added at each diffusion step. They play a critical role in controlling the balance between preserving the signal and introducing noise.\n",
        "\n",
        "**alpha_bars**  \n",
        "Alpha_bars is the cumulative product of alphas over all diffusion steps. This aggregated value captures the compounded effect of the noise reduction across the entire process and is instrumental during the reverse diffusion phase to help reconstruct the original data from the noisy version."
      ]
    },
    {
      "cell_type": "code",
      "execution_count": null,
      "metadata": {
        "id": "0zClJ8ojywcg"
      },
      "outputs": [],
      "source": [
        "def add_noise(x, t):\n",
        "    \"\"\"\n",
        "    Adds Gaussian noise to the image x for a given time step t.\n",
        "    x : original image with shape (batch, 28, 28, 1)\n",
        "    t : tensor of integers with shape (batch,) indicating the timestep\n",
        "    \"\"\"\n",
        "    # Retrieve coefficients for the timestep t\n",
        "    sqrt_alpha_bar = tf.gather(tf.sqrt(alpha_bars), t)\n",
        "    sqrt_alpha_bar = tf.reshape(sqrt_alpha_bar, (-1, 1, 1, 1))\n",
        "    sqrt_one_minus_alpha_bar = tf.gather(tf.sqrt(1 - alpha_bars), t)\n",
        "    sqrt_one_minus_alpha_bar = tf.reshape(sqrt_one_minus_alpha_bar, (-1, 1, 1, 1))\n",
        "\n",
        "    # Gaussian noise\n",
        "    noise = tf.random.normal(tf.shape(x))\n",
        "    noisy_x = sqrt_alpha_bar * x + sqrt_one_minus_alpha_bar * noise\n",
        "    return noisy_x, noise"
      ]
    },
    {
      "cell_type": "markdown",
      "metadata": {
        "id": "aLRcw-4t632X"
      },
      "source": [
        "In this diffusion model, Gaussian noise is gradually added to the original images during the forward process, progressively corrupting them according to a predefined noise schedule. This controlled corruption forces the model to learn how to predict and remove the noise at each time step, effectively training it to reverse the diffusion process. As a result, during generation, the model can start with pure noise and iteratively refine it to reconstruct a clear and coherent image."
      ]
    },
    {
      "cell_type": "code",
      "execution_count": null,
      "metadata": {
        "id": "nXexyTRjyyZQ"
      },
      "outputs": [],
      "source": [
        "def get_unet(input_shape=(28, 28, 1)):\n",
        "    # Image input\n",
        "    img_input = tf.keras.Input(shape=input_shape)\n",
        "    # Input for the timestep (normalized between 0 and 1)\n",
        "    t_input = tf.keras.Input(shape=(1,))\n",
        "\n",
        "    # Time embedding\n",
        "    t_dense = tf.keras.layers.Dense(32, activation=\"relu\")(t_input)\n",
        "    t_dense = tf.keras.layers.Dense(input_shape[0] * input_shape[1], activation=\"relu\")(t_dense)\n",
        "    t_emb = tf.keras.layers.Reshape((input_shape[0], input_shape[1], 1))(t_dense)\n",
        "\n",
        "    # Concatenate the image and the time embedding\n",
        "    x = tf.keras.layers.Concatenate()([img_input, t_emb])\n",
        "\n",
        "    # Downsampling part\n",
        "    conv1 = tf.keras.layers.Conv2D(32, 3, activation=\"relu\", padding=\"same\")(x)\n",
        "    pool1 = tf.keras.layers.MaxPooling2D()(conv1)\n",
        "\n",
        "    conv2 = tf.keras.layers.Conv2D(64, 3, activation=\"relu\", padding=\"same\")(pool1)\n",
        "    pool2 = tf.keras.layers.MaxPooling2D()(conv2)\n",
        "\n",
        "    # Bottleneck part\n",
        "    conv3 = tf.keras.layers.Conv2D(128, 3, activation=\"relu\", padding=\"same\")(pool2)\n",
        "\n",
        "    # Upsampling part\n",
        "    up1 = tf.keras.layers.UpSampling2D()(conv3)\n",
        "    concat1 = tf.keras.layers.Concatenate()([up1, conv2])\n",
        "    conv4 = tf.keras.layers.Conv2D(64, 3, activation=\"relu\", padding=\"same\")(concat1)\n",
        "\n",
        "    up2 = tf.keras.layers.UpSampling2D()(conv4)\n",
        "    concat2 = tf.keras.layers.Concatenate()([up2, conv1])\n",
        "    conv5 = tf.keras.layers.Conv2D(32, 3, activation=\"relu\", padding=\"same\")(concat2)\n",
        "\n",
        "    # Final layer to predict the noise (no activation)\n",
        "    output = tf.keras.layers.Conv2D(1, 1, activation=None, padding=\"same\")(conv5)\n",
        "\n",
        "    return tf.keras.Model(inputs=[img_input, t_input], outputs=output)"
      ]
    },
    {
      "cell_type": "code",
      "execution_count": null,
      "metadata": {
        "colab": {
          "base_uri": "https://localhost:8080/",
          "height": 875
        },
        "id": "INbm687Dy28J",
        "outputId": "4cac77c0-ea6a-46cf-dcdb-9e27e686bd83"
      },
      "outputs": [
        {
          "data": {
            "text/html": [
              "<pre style=\"white-space:pre;overflow-x:auto;line-height:normal;font-family:Menlo,'DejaVu Sans Mono',consolas,'Courier New',monospace\"><span style=\"font-weight: bold\">Model: \"functional_2\"</span>\n",
              "</pre>\n"
            ],
            "text/plain": [
              "\u001b[1mModel: \"functional_2\"\u001b[0m\n"
            ]
          },
          "metadata": {},
          "output_type": "display_data"
        },
        {
          "data": {
            "text/html": [
              "<pre style=\"white-space:pre;overflow-x:auto;line-height:normal;font-family:Menlo,'DejaVu Sans Mono',consolas,'Courier New',monospace\">┏━━━━━━━━━━━━━━━━━━━━━━━━━━━┳━━━━━━━━━━━━━━━━━━━━━━━━┳━━━━━━━━━━━━━━━━┳━━━━━━━━━━━━━━━━━━━━━━━━┓\n",
              "┃<span style=\"font-weight: bold\"> Layer (type)              </span>┃<span style=\"font-weight: bold\"> Output Shape           </span>┃<span style=\"font-weight: bold\">        Param # </span>┃<span style=\"font-weight: bold\"> Connected to           </span>┃\n",
              "┡━━━━━━━━━━━━━━━━━━━━━━━━━━━╇━━━━━━━━━━━━━━━━━━━━━━━━╇━━━━━━━━━━━━━━━━╇━━━━━━━━━━━━━━━━━━━━━━━━┩\n",
              "│ input_layer_4             │ (<span style=\"color: #00d7ff; text-decoration-color: #00d7ff\">None</span>, <span style=\"color: #00af00; text-decoration-color: #00af00\">1</span>)              │              <span style=\"color: #00af00; text-decoration-color: #00af00\">0</span> │ -                      │\n",
              "│ (<span style=\"color: #0087ff; text-decoration-color: #0087ff\">InputLayer</span>)              │                        │                │                        │\n",
              "├───────────────────────────┼────────────────────────┼────────────────┼────────────────────────┤\n",
              "│ dense_2 (<span style=\"color: #0087ff; text-decoration-color: #0087ff\">Dense</span>)           │ (<span style=\"color: #00d7ff; text-decoration-color: #00d7ff\">None</span>, <span style=\"color: #00af00; text-decoration-color: #00af00\">32</span>)             │             <span style=\"color: #00af00; text-decoration-color: #00af00\">64</span> │ input_layer_4[<span style=\"color: #00af00; text-decoration-color: #00af00\">0</span>][<span style=\"color: #00af00; text-decoration-color: #00af00\">0</span>]    │\n",
              "├───────────────────────────┼────────────────────────┼────────────────┼────────────────────────┤\n",
              "│ dense_3 (<span style=\"color: #0087ff; text-decoration-color: #0087ff\">Dense</span>)           │ (<span style=\"color: #00d7ff; text-decoration-color: #00d7ff\">None</span>, <span style=\"color: #00af00; text-decoration-color: #00af00\">784</span>)            │         <span style=\"color: #00af00; text-decoration-color: #00af00\">25,872</span> │ dense_2[<span style=\"color: #00af00; text-decoration-color: #00af00\">0</span>][<span style=\"color: #00af00; text-decoration-color: #00af00\">0</span>]          │\n",
              "├───────────────────────────┼────────────────────────┼────────────────┼────────────────────────┤\n",
              "│ input_layer_3             │ (<span style=\"color: #00d7ff; text-decoration-color: #00d7ff\">None</span>, <span style=\"color: #00af00; text-decoration-color: #00af00\">28</span>, <span style=\"color: #00af00; text-decoration-color: #00af00\">28</span>, <span style=\"color: #00af00; text-decoration-color: #00af00\">1</span>)      │              <span style=\"color: #00af00; text-decoration-color: #00af00\">0</span> │ -                      │\n",
              "│ (<span style=\"color: #0087ff; text-decoration-color: #0087ff\">InputLayer</span>)              │                        │                │                        │\n",
              "├───────────────────────────┼────────────────────────┼────────────────┼────────────────────────┤\n",
              "│ reshape_1 (<span style=\"color: #0087ff; text-decoration-color: #0087ff\">Reshape</span>)       │ (<span style=\"color: #00d7ff; text-decoration-color: #00d7ff\">None</span>, <span style=\"color: #00af00; text-decoration-color: #00af00\">28</span>, <span style=\"color: #00af00; text-decoration-color: #00af00\">28</span>, <span style=\"color: #00af00; text-decoration-color: #00af00\">1</span>)      │              <span style=\"color: #00af00; text-decoration-color: #00af00\">0</span> │ dense_3[<span style=\"color: #00af00; text-decoration-color: #00af00\">0</span>][<span style=\"color: #00af00; text-decoration-color: #00af00\">0</span>]          │\n",
              "├───────────────────────────┼────────────────────────┼────────────────┼────────────────────────┤\n",
              "│ concatenate_4             │ (<span style=\"color: #00d7ff; text-decoration-color: #00d7ff\">None</span>, <span style=\"color: #00af00; text-decoration-color: #00af00\">28</span>, <span style=\"color: #00af00; text-decoration-color: #00af00\">28</span>, <span style=\"color: #00af00; text-decoration-color: #00af00\">2</span>)      │              <span style=\"color: #00af00; text-decoration-color: #00af00\">0</span> │ input_layer_3[<span style=\"color: #00af00; text-decoration-color: #00af00\">0</span>][<span style=\"color: #00af00; text-decoration-color: #00af00\">0</span>],   │\n",
              "│ (<span style=\"color: #0087ff; text-decoration-color: #0087ff\">Concatenate</span>)             │                        │                │ reshape_1[<span style=\"color: #00af00; text-decoration-color: #00af00\">0</span>][<span style=\"color: #00af00; text-decoration-color: #00af00\">0</span>]        │\n",
              "├───────────────────────────┼────────────────────────┼────────────────┼────────────────────────┤\n",
              "│ conv2d_9 (<span style=\"color: #0087ff; text-decoration-color: #0087ff\">Conv2D</span>)         │ (<span style=\"color: #00d7ff; text-decoration-color: #00d7ff\">None</span>, <span style=\"color: #00af00; text-decoration-color: #00af00\">28</span>, <span style=\"color: #00af00; text-decoration-color: #00af00\">28</span>, <span style=\"color: #00af00; text-decoration-color: #00af00\">32</span>)     │            <span style=\"color: #00af00; text-decoration-color: #00af00\">608</span> │ concatenate_4[<span style=\"color: #00af00; text-decoration-color: #00af00\">0</span>][<span style=\"color: #00af00; text-decoration-color: #00af00\">0</span>]    │\n",
              "├───────────────────────────┼────────────────────────┼────────────────┼────────────────────────┤\n",
              "│ max_pooling2d_3           │ (<span style=\"color: #00d7ff; text-decoration-color: #00d7ff\">None</span>, <span style=\"color: #00af00; text-decoration-color: #00af00\">14</span>, <span style=\"color: #00af00; text-decoration-color: #00af00\">14</span>, <span style=\"color: #00af00; text-decoration-color: #00af00\">32</span>)     │              <span style=\"color: #00af00; text-decoration-color: #00af00\">0</span> │ conv2d_9[<span style=\"color: #00af00; text-decoration-color: #00af00\">0</span>][<span style=\"color: #00af00; text-decoration-color: #00af00\">0</span>]         │\n",
              "│ (<span style=\"color: #0087ff; text-decoration-color: #0087ff\">MaxPooling2D</span>)            │                        │                │                        │\n",
              "├───────────────────────────┼────────────────────────┼────────────────┼────────────────────────┤\n",
              "│ conv2d_10 (<span style=\"color: #0087ff; text-decoration-color: #0087ff\">Conv2D</span>)        │ (<span style=\"color: #00d7ff; text-decoration-color: #00d7ff\">None</span>, <span style=\"color: #00af00; text-decoration-color: #00af00\">14</span>, <span style=\"color: #00af00; text-decoration-color: #00af00\">14</span>, <span style=\"color: #00af00; text-decoration-color: #00af00\">64</span>)     │         <span style=\"color: #00af00; text-decoration-color: #00af00\">18,496</span> │ max_pooling2d_3[<span style=\"color: #00af00; text-decoration-color: #00af00\">0</span>][<span style=\"color: #00af00; text-decoration-color: #00af00\">0</span>]  │\n",
              "├───────────────────────────┼────────────────────────┼────────────────┼────────────────────────┤\n",
              "│ max_pooling2d_4           │ (<span style=\"color: #00d7ff; text-decoration-color: #00d7ff\">None</span>, <span style=\"color: #00af00; text-decoration-color: #00af00\">7</span>, <span style=\"color: #00af00; text-decoration-color: #00af00\">7</span>, <span style=\"color: #00af00; text-decoration-color: #00af00\">64</span>)       │              <span style=\"color: #00af00; text-decoration-color: #00af00\">0</span> │ conv2d_10[<span style=\"color: #00af00; text-decoration-color: #00af00\">0</span>][<span style=\"color: #00af00; text-decoration-color: #00af00\">0</span>]        │\n",
              "│ (<span style=\"color: #0087ff; text-decoration-color: #0087ff\">MaxPooling2D</span>)            │                        │                │                        │\n",
              "├───────────────────────────┼────────────────────────┼────────────────┼────────────────────────┤\n",
              "│ conv2d_11 (<span style=\"color: #0087ff; text-decoration-color: #0087ff\">Conv2D</span>)        │ (<span style=\"color: #00d7ff; text-decoration-color: #00d7ff\">None</span>, <span style=\"color: #00af00; text-decoration-color: #00af00\">7</span>, <span style=\"color: #00af00; text-decoration-color: #00af00\">7</span>, <span style=\"color: #00af00; text-decoration-color: #00af00\">128</span>)      │         <span style=\"color: #00af00; text-decoration-color: #00af00\">73,856</span> │ max_pooling2d_4[<span style=\"color: #00af00; text-decoration-color: #00af00\">0</span>][<span style=\"color: #00af00; text-decoration-color: #00af00\">0</span>]  │\n",
              "├───────────────────────────┼────────────────────────┼────────────────┼────────────────────────┤\n",
              "│ up_sampling2d_2           │ (<span style=\"color: #00d7ff; text-decoration-color: #00d7ff\">None</span>, <span style=\"color: #00af00; text-decoration-color: #00af00\">14</span>, <span style=\"color: #00af00; text-decoration-color: #00af00\">14</span>, <span style=\"color: #00af00; text-decoration-color: #00af00\">128</span>)    │              <span style=\"color: #00af00; text-decoration-color: #00af00\">0</span> │ conv2d_11[<span style=\"color: #00af00; text-decoration-color: #00af00\">0</span>][<span style=\"color: #00af00; text-decoration-color: #00af00\">0</span>]        │\n",
              "│ (<span style=\"color: #0087ff; text-decoration-color: #0087ff\">UpSampling2D</span>)            │                        │                │                        │\n",
              "├───────────────────────────┼────────────────────────┼────────────────┼────────────────────────┤\n",
              "│ concatenate_5             │ (<span style=\"color: #00d7ff; text-decoration-color: #00d7ff\">None</span>, <span style=\"color: #00af00; text-decoration-color: #00af00\">14</span>, <span style=\"color: #00af00; text-decoration-color: #00af00\">14</span>, <span style=\"color: #00af00; text-decoration-color: #00af00\">192</span>)    │              <span style=\"color: #00af00; text-decoration-color: #00af00\">0</span> │ up_sampling2d_2[<span style=\"color: #00af00; text-decoration-color: #00af00\">0</span>][<span style=\"color: #00af00; text-decoration-color: #00af00\">0</span>], │\n",
              "│ (<span style=\"color: #0087ff; text-decoration-color: #0087ff\">Concatenate</span>)             │                        │                │ conv2d_10[<span style=\"color: #00af00; text-decoration-color: #00af00\">0</span>][<span style=\"color: #00af00; text-decoration-color: #00af00\">0</span>]        │\n",
              "├───────────────────────────┼────────────────────────┼────────────────┼────────────────────────┤\n",
              "│ conv2d_12 (<span style=\"color: #0087ff; text-decoration-color: #0087ff\">Conv2D</span>)        │ (<span style=\"color: #00d7ff; text-decoration-color: #00d7ff\">None</span>, <span style=\"color: #00af00; text-decoration-color: #00af00\">14</span>, <span style=\"color: #00af00; text-decoration-color: #00af00\">14</span>, <span style=\"color: #00af00; text-decoration-color: #00af00\">64</span>)     │        <span style=\"color: #00af00; text-decoration-color: #00af00\">110,656</span> │ concatenate_5[<span style=\"color: #00af00; text-decoration-color: #00af00\">0</span>][<span style=\"color: #00af00; text-decoration-color: #00af00\">0</span>]    │\n",
              "├───────────────────────────┼────────────────────────┼────────────────┼────────────────────────┤\n",
              "│ up_sampling2d_3           │ (<span style=\"color: #00d7ff; text-decoration-color: #00d7ff\">None</span>, <span style=\"color: #00af00; text-decoration-color: #00af00\">28</span>, <span style=\"color: #00af00; text-decoration-color: #00af00\">28</span>, <span style=\"color: #00af00; text-decoration-color: #00af00\">64</span>)     │              <span style=\"color: #00af00; text-decoration-color: #00af00\">0</span> │ conv2d_12[<span style=\"color: #00af00; text-decoration-color: #00af00\">0</span>][<span style=\"color: #00af00; text-decoration-color: #00af00\">0</span>]        │\n",
              "│ (<span style=\"color: #0087ff; text-decoration-color: #0087ff\">UpSampling2D</span>)            │                        │                │                        │\n",
              "├───────────────────────────┼────────────────────────┼────────────────┼────────────────────────┤\n",
              "│ concatenate_6             │ (<span style=\"color: #00d7ff; text-decoration-color: #00d7ff\">None</span>, <span style=\"color: #00af00; text-decoration-color: #00af00\">28</span>, <span style=\"color: #00af00; text-decoration-color: #00af00\">28</span>, <span style=\"color: #00af00; text-decoration-color: #00af00\">96</span>)     │              <span style=\"color: #00af00; text-decoration-color: #00af00\">0</span> │ up_sampling2d_3[<span style=\"color: #00af00; text-decoration-color: #00af00\">0</span>][<span style=\"color: #00af00; text-decoration-color: #00af00\">0</span>], │\n",
              "│ (<span style=\"color: #0087ff; text-decoration-color: #0087ff\">Concatenate</span>)             │                        │                │ conv2d_9[<span style=\"color: #00af00; text-decoration-color: #00af00\">0</span>][<span style=\"color: #00af00; text-decoration-color: #00af00\">0</span>]         │\n",
              "├───────────────────────────┼────────────────────────┼────────────────┼────────────────────────┤\n",
              "│ conv2d_13 (<span style=\"color: #0087ff; text-decoration-color: #0087ff\">Conv2D</span>)        │ (<span style=\"color: #00d7ff; text-decoration-color: #00d7ff\">None</span>, <span style=\"color: #00af00; text-decoration-color: #00af00\">28</span>, <span style=\"color: #00af00; text-decoration-color: #00af00\">28</span>, <span style=\"color: #00af00; text-decoration-color: #00af00\">32</span>)     │         <span style=\"color: #00af00; text-decoration-color: #00af00\">27,680</span> │ concatenate_6[<span style=\"color: #00af00; text-decoration-color: #00af00\">0</span>][<span style=\"color: #00af00; text-decoration-color: #00af00\">0</span>]    │\n",
              "├───────────────────────────┼────────────────────────┼────────────────┼────────────────────────┤\n",
              "│ conv2d_14 (<span style=\"color: #0087ff; text-decoration-color: #0087ff\">Conv2D</span>)        │ (<span style=\"color: #00d7ff; text-decoration-color: #00d7ff\">None</span>, <span style=\"color: #00af00; text-decoration-color: #00af00\">28</span>, <span style=\"color: #00af00; text-decoration-color: #00af00\">28</span>, <span style=\"color: #00af00; text-decoration-color: #00af00\">1</span>)      │             <span style=\"color: #00af00; text-decoration-color: #00af00\">33</span> │ conv2d_13[<span style=\"color: #00af00; text-decoration-color: #00af00\">0</span>][<span style=\"color: #00af00; text-decoration-color: #00af00\">0</span>]        │\n",
              "└───────────────────────────┴────────────────────────┴────────────────┴────────────────────────┘\n",
              "</pre>\n"
            ],
            "text/plain": [
              "┏━━━━━━━━━━━━━━━━━━━━━━━━━━━┳━━━━━━━━━━━━━━━━━━━━━━━━┳━━━━━━━━━━━━━━━━┳━━━━━━━━━━━━━━━━━━━━━━━━┓\n",
              "┃\u001b[1m \u001b[0m\u001b[1mLayer (type)             \u001b[0m\u001b[1m \u001b[0m┃\u001b[1m \u001b[0m\u001b[1mOutput Shape          \u001b[0m\u001b[1m \u001b[0m┃\u001b[1m \u001b[0m\u001b[1m       Param #\u001b[0m\u001b[1m \u001b[0m┃\u001b[1m \u001b[0m\u001b[1mConnected to          \u001b[0m\u001b[1m \u001b[0m┃\n",
              "┡━━━━━━━━━━━━━━━━━━━━━━━━━━━╇━━━━━━━━━━━━━━━━━━━━━━━━╇━━━━━━━━━━━━━━━━╇━━━━━━━━━━━━━━━━━━━━━━━━┩\n",
              "│ input_layer_4             │ (\u001b[38;5;45mNone\u001b[0m, \u001b[38;5;34m1\u001b[0m)              │              \u001b[38;5;34m0\u001b[0m │ -                      │\n",
              "│ (\u001b[38;5;33mInputLayer\u001b[0m)              │                        │                │                        │\n",
              "├───────────────────────────┼────────────────────────┼────────────────┼────────────────────────┤\n",
              "│ dense_2 (\u001b[38;5;33mDense\u001b[0m)           │ (\u001b[38;5;45mNone\u001b[0m, \u001b[38;5;34m32\u001b[0m)             │             \u001b[38;5;34m64\u001b[0m │ input_layer_4[\u001b[38;5;34m0\u001b[0m][\u001b[38;5;34m0\u001b[0m]    │\n",
              "├───────────────────────────┼────────────────────────┼────────────────┼────────────────────────┤\n",
              "│ dense_3 (\u001b[38;5;33mDense\u001b[0m)           │ (\u001b[38;5;45mNone\u001b[0m, \u001b[38;5;34m784\u001b[0m)            │         \u001b[38;5;34m25,872\u001b[0m │ dense_2[\u001b[38;5;34m0\u001b[0m][\u001b[38;5;34m0\u001b[0m]          │\n",
              "├───────────────────────────┼────────────────────────┼────────────────┼────────────────────────┤\n",
              "│ input_layer_3             │ (\u001b[38;5;45mNone\u001b[0m, \u001b[38;5;34m28\u001b[0m, \u001b[38;5;34m28\u001b[0m, \u001b[38;5;34m1\u001b[0m)      │              \u001b[38;5;34m0\u001b[0m │ -                      │\n",
              "│ (\u001b[38;5;33mInputLayer\u001b[0m)              │                        │                │                        │\n",
              "├───────────────────────────┼────────────────────────┼────────────────┼────────────────────────┤\n",
              "│ reshape_1 (\u001b[38;5;33mReshape\u001b[0m)       │ (\u001b[38;5;45mNone\u001b[0m, \u001b[38;5;34m28\u001b[0m, \u001b[38;5;34m28\u001b[0m, \u001b[38;5;34m1\u001b[0m)      │              \u001b[38;5;34m0\u001b[0m │ dense_3[\u001b[38;5;34m0\u001b[0m][\u001b[38;5;34m0\u001b[0m]          │\n",
              "├───────────────────────────┼────────────────────────┼────────────────┼────────────────────────┤\n",
              "│ concatenate_4             │ (\u001b[38;5;45mNone\u001b[0m, \u001b[38;5;34m28\u001b[0m, \u001b[38;5;34m28\u001b[0m, \u001b[38;5;34m2\u001b[0m)      │              \u001b[38;5;34m0\u001b[0m │ input_layer_3[\u001b[38;5;34m0\u001b[0m][\u001b[38;5;34m0\u001b[0m],   │\n",
              "│ (\u001b[38;5;33mConcatenate\u001b[0m)             │                        │                │ reshape_1[\u001b[38;5;34m0\u001b[0m][\u001b[38;5;34m0\u001b[0m]        │\n",
              "├───────────────────────────┼────────────────────────┼────────────────┼────────────────────────┤\n",
              "│ conv2d_9 (\u001b[38;5;33mConv2D\u001b[0m)         │ (\u001b[38;5;45mNone\u001b[0m, \u001b[38;5;34m28\u001b[0m, \u001b[38;5;34m28\u001b[0m, \u001b[38;5;34m32\u001b[0m)     │            \u001b[38;5;34m608\u001b[0m │ concatenate_4[\u001b[38;5;34m0\u001b[0m][\u001b[38;5;34m0\u001b[0m]    │\n",
              "├───────────────────────────┼────────────────────────┼────────────────┼────────────────────────┤\n",
              "│ max_pooling2d_3           │ (\u001b[38;5;45mNone\u001b[0m, \u001b[38;5;34m14\u001b[0m, \u001b[38;5;34m14\u001b[0m, \u001b[38;5;34m32\u001b[0m)     │              \u001b[38;5;34m0\u001b[0m │ conv2d_9[\u001b[38;5;34m0\u001b[0m][\u001b[38;5;34m0\u001b[0m]         │\n",
              "│ (\u001b[38;5;33mMaxPooling2D\u001b[0m)            │                        │                │                        │\n",
              "├───────────────────────────┼────────────────────────┼────────────────┼────────────────────────┤\n",
              "│ conv2d_10 (\u001b[38;5;33mConv2D\u001b[0m)        │ (\u001b[38;5;45mNone\u001b[0m, \u001b[38;5;34m14\u001b[0m, \u001b[38;5;34m14\u001b[0m, \u001b[38;5;34m64\u001b[0m)     │         \u001b[38;5;34m18,496\u001b[0m │ max_pooling2d_3[\u001b[38;5;34m0\u001b[0m][\u001b[38;5;34m0\u001b[0m]  │\n",
              "├───────────────────────────┼────────────────────────┼────────────────┼────────────────────────┤\n",
              "│ max_pooling2d_4           │ (\u001b[38;5;45mNone\u001b[0m, \u001b[38;5;34m7\u001b[0m, \u001b[38;5;34m7\u001b[0m, \u001b[38;5;34m64\u001b[0m)       │              \u001b[38;5;34m0\u001b[0m │ conv2d_10[\u001b[38;5;34m0\u001b[0m][\u001b[38;5;34m0\u001b[0m]        │\n",
              "│ (\u001b[38;5;33mMaxPooling2D\u001b[0m)            │                        │                │                        │\n",
              "├───────────────────────────┼────────────────────────┼────────────────┼────────────────────────┤\n",
              "│ conv2d_11 (\u001b[38;5;33mConv2D\u001b[0m)        │ (\u001b[38;5;45mNone\u001b[0m, \u001b[38;5;34m7\u001b[0m, \u001b[38;5;34m7\u001b[0m, \u001b[38;5;34m128\u001b[0m)      │         \u001b[38;5;34m73,856\u001b[0m │ max_pooling2d_4[\u001b[38;5;34m0\u001b[0m][\u001b[38;5;34m0\u001b[0m]  │\n",
              "├───────────────────────────┼────────────────────────┼────────────────┼────────────────────────┤\n",
              "│ up_sampling2d_2           │ (\u001b[38;5;45mNone\u001b[0m, \u001b[38;5;34m14\u001b[0m, \u001b[38;5;34m14\u001b[0m, \u001b[38;5;34m128\u001b[0m)    │              \u001b[38;5;34m0\u001b[0m │ conv2d_11[\u001b[38;5;34m0\u001b[0m][\u001b[38;5;34m0\u001b[0m]        │\n",
              "│ (\u001b[38;5;33mUpSampling2D\u001b[0m)            │                        │                │                        │\n",
              "├───────────────────────────┼────────────────────────┼────────────────┼────────────────────────┤\n",
              "│ concatenate_5             │ (\u001b[38;5;45mNone\u001b[0m, \u001b[38;5;34m14\u001b[0m, \u001b[38;5;34m14\u001b[0m, \u001b[38;5;34m192\u001b[0m)    │              \u001b[38;5;34m0\u001b[0m │ up_sampling2d_2[\u001b[38;5;34m0\u001b[0m][\u001b[38;5;34m0\u001b[0m], │\n",
              "│ (\u001b[38;5;33mConcatenate\u001b[0m)             │                        │                │ conv2d_10[\u001b[38;5;34m0\u001b[0m][\u001b[38;5;34m0\u001b[0m]        │\n",
              "├───────────────────────────┼────────────────────────┼────────────────┼────────────────────────┤\n",
              "│ conv2d_12 (\u001b[38;5;33mConv2D\u001b[0m)        │ (\u001b[38;5;45mNone\u001b[0m, \u001b[38;5;34m14\u001b[0m, \u001b[38;5;34m14\u001b[0m, \u001b[38;5;34m64\u001b[0m)     │        \u001b[38;5;34m110,656\u001b[0m │ concatenate_5[\u001b[38;5;34m0\u001b[0m][\u001b[38;5;34m0\u001b[0m]    │\n",
              "├───────────────────────────┼────────────────────────┼────────────────┼────────────────────────┤\n",
              "│ up_sampling2d_3           │ (\u001b[38;5;45mNone\u001b[0m, \u001b[38;5;34m28\u001b[0m, \u001b[38;5;34m28\u001b[0m, \u001b[38;5;34m64\u001b[0m)     │              \u001b[38;5;34m0\u001b[0m │ conv2d_12[\u001b[38;5;34m0\u001b[0m][\u001b[38;5;34m0\u001b[0m]        │\n",
              "│ (\u001b[38;5;33mUpSampling2D\u001b[0m)            │                        │                │                        │\n",
              "├───────────────────────────┼────────────────────────┼────────────────┼────────────────────────┤\n",
              "│ concatenate_6             │ (\u001b[38;5;45mNone\u001b[0m, \u001b[38;5;34m28\u001b[0m, \u001b[38;5;34m28\u001b[0m, \u001b[38;5;34m96\u001b[0m)     │              \u001b[38;5;34m0\u001b[0m │ up_sampling2d_3[\u001b[38;5;34m0\u001b[0m][\u001b[38;5;34m0\u001b[0m], │\n",
              "│ (\u001b[38;5;33mConcatenate\u001b[0m)             │                        │                │ conv2d_9[\u001b[38;5;34m0\u001b[0m][\u001b[38;5;34m0\u001b[0m]         │\n",
              "├───────────────────────────┼────────────────────────┼────────────────┼────────────────────────┤\n",
              "│ conv2d_13 (\u001b[38;5;33mConv2D\u001b[0m)        │ (\u001b[38;5;45mNone\u001b[0m, \u001b[38;5;34m28\u001b[0m, \u001b[38;5;34m28\u001b[0m, \u001b[38;5;34m32\u001b[0m)     │         \u001b[38;5;34m27,680\u001b[0m │ concatenate_6[\u001b[38;5;34m0\u001b[0m][\u001b[38;5;34m0\u001b[0m]    │\n",
              "├───────────────────────────┼────────────────────────┼────────────────┼────────────────────────┤\n",
              "│ conv2d_14 (\u001b[38;5;33mConv2D\u001b[0m)        │ (\u001b[38;5;45mNone\u001b[0m, \u001b[38;5;34m28\u001b[0m, \u001b[38;5;34m28\u001b[0m, \u001b[38;5;34m1\u001b[0m)      │             \u001b[38;5;34m33\u001b[0m │ conv2d_13[\u001b[38;5;34m0\u001b[0m][\u001b[38;5;34m0\u001b[0m]        │\n",
              "└───────────────────────────┴────────────────────────┴────────────────┴────────────────────────┘\n"
            ]
          },
          "metadata": {},
          "output_type": "display_data"
        },
        {
          "data": {
            "text/html": [
              "<pre style=\"white-space:pre;overflow-x:auto;line-height:normal;font-family:Menlo,'DejaVu Sans Mono',consolas,'Courier New',monospace\"><span style=\"font-weight: bold\"> Total params: </span><span style=\"color: #00af00; text-decoration-color: #00af00\">257,265</span> (1004.94 KB)\n",
              "</pre>\n"
            ],
            "text/plain": [
              "\u001b[1m Total params: \u001b[0m\u001b[38;5;34m257,265\u001b[0m (1004.94 KB)\n"
            ]
          },
          "metadata": {},
          "output_type": "display_data"
        },
        {
          "data": {
            "text/html": [
              "<pre style=\"white-space:pre;overflow-x:auto;line-height:normal;font-family:Menlo,'DejaVu Sans Mono',consolas,'Courier New',monospace\"><span style=\"font-weight: bold\"> Trainable params: </span><span style=\"color: #00af00; text-decoration-color: #00af00\">257,265</span> (1004.94 KB)\n",
              "</pre>\n"
            ],
            "text/plain": [
              "\u001b[1m Trainable params: \u001b[0m\u001b[38;5;34m257,265\u001b[0m (1004.94 KB)\n"
            ]
          },
          "metadata": {},
          "output_type": "display_data"
        },
        {
          "data": {
            "text/html": [
              "<pre style=\"white-space:pre;overflow-x:auto;line-height:normal;font-family:Menlo,'DejaVu Sans Mono',consolas,'Courier New',monospace\"><span style=\"font-weight: bold\"> Non-trainable params: </span><span style=\"color: #00af00; text-decoration-color: #00af00\">0</span> (0.00 B)\n",
              "</pre>\n"
            ],
            "text/plain": [
              "\u001b[1m Non-trainable params: \u001b[0m\u001b[38;5;34m0\u001b[0m (0.00 B)\n"
            ]
          },
          "metadata": {},
          "output_type": "display_data"
        }
      ],
      "source": [
        "model = get_unet()\n",
        "model.summary()"
      ]
    },
    {
      "cell_type": "markdown",
      "metadata": {
        "id": "GT6lftQs8hEt"
      },
      "source": [
        "The UNET model is designed to predict the noise added during the diffusion process by conditioning on both the image and the diffusion timestep. First, the timestep is embedded through a couple of dense layers and reshaped into a spatial map, which is then concatenated with the original image. This integration ensures that temporal information is available at every spatial location. In the downsampling branch, convolutional layers with increasing filter counts capture local features while successive max pooling layers reduce the spatial dimensions, allowing the network to learn more abstract representations. The bottleneck layer further processes these condensed features with a higher number of filters, emphasizing deeper, more complex patterns. In the upsampling branch, the model uses upsampling layers to gradually restore the spatial dimensions, and skip connections are employed by concatenating feature maps from the corresponding downsampling stages—this helps recover fine details lost during pooling. Finally, a convolutional layer without an activation function outputs the predicted noise, which is essential for effectively reversing the diffusion process and generating the final denoised image."
      ]
    },
    {
      "cell_type": "code",
      "execution_count": null,
      "metadata": {
        "id": "uhu4u35Ry49R"
      },
      "outputs": [],
      "source": [
        "batch_size = 64\n",
        "dataset = tf.data.Dataset.from_tensor_slices(x_train)\n",
        "dataset = dataset.shuffle(buffer_size=1024).batch(batch_size)\n",
        "\n",
        "optimizer = tf.keras.optimizers.Adam(learning_rate=2*1e-4)\n",
        "mse_loss = tf.keras.losses.MeanSquaredError()"
      ]
    },
    {
      "cell_type": "markdown",
      "metadata": {
        "id": "UYYY6ZSE9Uf3"
      },
      "source": [
        "The batch size of 64, combined with shuffling the dataset with a buffer size of 1024 before batching, ensures that each mini-batch contains a diverse, well-randomized sample of the training data. This randomness is crucial for stabilizing the training process of the diffusion model, which must learn to predict added Gaussian noise across various noise levels. Similarly, using the Adam optimizer with a learning rate of 2×10⁻⁴ strikes a balance between fast convergence and training stability, a common choice in training deep generative models. Finally, the mean squared error (MSE) loss is a natural fit for the noise prediction objective inherent to diffusion models, as it directly measures the discrepancy between the true noise and the model’s prediction."
      ]
    },
    {
      "cell_type": "code",
      "execution_count": null,
      "metadata": {
        "id": "bZvmuS-iy7Re"
      },
      "outputs": [],
      "source": [
        "@tf.function\n",
        "def train_step(x):\n",
        "    # For each image in the batch, randomly select a timestep\n",
        "    batch_size = tf.shape(x)[0]\n",
        "    t = tf.random.uniform((batch_size,), minval=0, maxval=T, dtype=tf.int32)\n",
        "    # Normalize the timestep for the model input (between 0 and 1)\n",
        "    t_norm = tf.cast(t, tf.float32) / T\n",
        "    # Add noise to the image\n",
        "    noisy_x, noise = add_noise(x, t)\n",
        "\n",
        "    with tf.GradientTape() as tape:\n",
        "        # The model should predict the added noise\n",
        "        pred_noise = model([noisy_x, tf.expand_dims(t_norm, -1)], training=True)\n",
        "        loss = mse_loss(noise, pred_noise)\n",
        "    gradients = tape.gradient(loss, model.trainable_variables)\n",
        "    optimizer.apply_gradients(zip(gradients, model.trainable_variables))\n",
        "    return loss"
      ]
    },
    {
      "cell_type": "code",
      "execution_count": null,
      "metadata": {
        "colab": {
          "base_uri": "https://localhost:8080/"
        },
        "id": "uDH5JHiwy9L1",
        "outputId": "fc9fe265-ae1d-40fc-9fb2-12d5263ffef4"
      },
      "outputs": [
        {
          "name": "stdout",
          "output_type": "stream",
          "text": [
            "Epoch 1/50\n",
            "  Étape 0: Loss = 0.9844\n",
            "  Étape 100: Loss = 0.1890\n",
            "  Étape 200: Loss = 0.1364\n",
            "  Étape 300: Loss = 0.0904\n",
            "  Étape 400: Loss = 0.1325\n",
            "  Étape 500: Loss = 0.0990\n",
            "  Étape 600: Loss = 0.1206\n",
            "  Étape 700: Loss = 0.1212\n",
            "  Étape 800: Loss = 0.0814\n",
            "  Étape 900: Loss = 0.0553\n",
            "Epoch 2/50\n",
            "  Étape 0: Loss = 0.0743\n",
            "  Étape 100: Loss = 0.0898\n",
            "  Étape 200: Loss = 0.0653\n",
            "  Étape 300: Loss = 0.0694\n",
            "  Étape 400: Loss = 0.0901\n",
            "  Étape 500: Loss = 0.0758\n",
            "  Étape 600: Loss = 0.0642\n",
            "  Étape 700: Loss = 0.0554\n",
            "  Étape 800: Loss = 0.0473\n",
            "  Étape 900: Loss = 0.0560\n",
            "Epoch 3/50\n",
            "  Étape 0: Loss = 0.0491\n",
            "  Étape 100: Loss = 0.0526\n",
            "  Étape 200: Loss = 0.0474\n",
            "  Étape 300: Loss = 0.0579\n",
            "  Étape 400: Loss = 0.0392\n",
            "  Étape 500: Loss = 0.0507\n",
            "  Étape 600: Loss = 0.0422\n",
            "  Étape 700: Loss = 0.0535\n",
            "  Étape 800: Loss = 0.0273\n",
            "  Étape 900: Loss = 0.0555\n",
            "Epoch 4/50\n",
            "  Étape 0: Loss = 0.0488\n",
            "  Étape 100: Loss = 0.0447\n",
            "  Étape 200: Loss = 0.0754\n",
            "  Étape 300: Loss = 0.0541\n",
            "  Étape 400: Loss = 0.0504\n",
            "  Étape 500: Loss = 0.0415\n",
            "  Étape 600: Loss = 0.0579\n",
            "  Étape 700: Loss = 0.0516\n",
            "  Étape 800: Loss = 0.0524\n",
            "  Étape 900: Loss = 0.0412\n",
            "Epoch 5/50\n",
            "  Étape 0: Loss = 0.0447\n",
            "  Étape 100: Loss = 0.0358\n",
            "  Étape 200: Loss = 0.0396\n",
            "  Étape 300: Loss = 0.0513\n",
            "  Étape 400: Loss = 0.0299\n",
            "  Étape 500: Loss = 0.0470\n",
            "  Étape 600: Loss = 0.0495\n",
            "  Étape 700: Loss = 0.0526\n",
            "  Étape 800: Loss = 0.0618\n",
            "  Étape 900: Loss = 0.0553\n",
            "Epoch 6/50\n",
            "  Étape 0: Loss = 0.0534\n",
            "  Étape 100: Loss = 0.0461\n",
            "  Étape 200: Loss = 0.0380\n",
            "  Étape 300: Loss = 0.0319\n",
            "  Étape 400: Loss = 0.0558\n",
            "  Étape 500: Loss = 0.0318\n",
            "  Étape 600: Loss = 0.0341\n",
            "  Étape 700: Loss = 0.0404\n",
            "  Étape 800: Loss = 0.0594\n",
            "  Étape 900: Loss = 0.0319\n",
            "Epoch 7/50\n",
            "  Étape 0: Loss = 0.0413\n",
            "  Étape 100: Loss = 0.0424\n",
            "  Étape 200: Loss = 0.0631\n",
            "  Étape 300: Loss = 0.0344\n",
            "  Étape 400: Loss = 0.0406\n",
            "  Étape 500: Loss = 0.0421\n",
            "  Étape 600: Loss = 0.0633\n",
            "  Étape 700: Loss = 0.0353\n",
            "  Étape 800: Loss = 0.0398\n",
            "  Étape 900: Loss = 0.0509\n",
            "Epoch 8/50\n",
            "  Étape 0: Loss = 0.0483\n",
            "  Étape 100: Loss = 0.0331\n",
            "  Étape 200: Loss = 0.0335\n",
            "  Étape 300: Loss = 0.0414\n",
            "  Étape 400: Loss = 0.0441\n",
            "  Étape 500: Loss = 0.0248\n",
            "  Étape 600: Loss = 0.0510\n",
            "  Étape 700: Loss = 0.0324\n",
            "  Étape 800: Loss = 0.0287\n",
            "  Étape 900: Loss = 0.0618\n",
            "Epoch 9/50\n",
            "  Étape 0: Loss = 0.0389\n",
            "  Étape 100: Loss = 0.0347\n",
            "  Étape 200: Loss = 0.0399\n",
            "  Étape 300: Loss = 0.0393\n",
            "  Étape 400: Loss = 0.0453\n",
            "  Étape 500: Loss = 0.0398\n",
            "  Étape 600: Loss = 0.0360\n",
            "  Étape 700: Loss = 0.0328\n",
            "  Étape 800: Loss = 0.0273\n",
            "  Étape 900: Loss = 0.0488\n",
            "Epoch 10/50\n",
            "  Étape 0: Loss = 0.0375\n",
            "  Étape 100: Loss = 0.0379\n",
            "  Étape 200: Loss = 0.0366\n",
            "  Étape 300: Loss = 0.0352\n",
            "  Étape 400: Loss = 0.0282\n",
            "  Étape 500: Loss = 0.0221\n",
            "  Étape 600: Loss = 0.0368\n",
            "  Étape 700: Loss = 0.0371\n",
            "  Étape 800: Loss = 0.0656\n",
            "  Étape 900: Loss = 0.0567\n",
            "Epoch 11/50\n",
            "  Étape 0: Loss = 0.0443\n",
            "  Étape 100: Loss = 0.0397\n",
            "  Étape 200: Loss = 0.0312\n",
            "  Étape 300: Loss = 0.0494\n",
            "  Étape 400: Loss = 0.0378\n",
            "  Étape 500: Loss = 0.0315\n",
            "  Étape 600: Loss = 0.0240\n",
            "  Étape 700: Loss = 0.0420\n",
            "  Étape 800: Loss = 0.0382\n",
            "  Étape 900: Loss = 0.0295\n",
            "Epoch 12/50\n",
            "  Étape 0: Loss = 0.0381\n",
            "  Étape 100: Loss = 0.0405\n",
            "  Étape 200: Loss = 0.0312\n",
            "  Étape 300: Loss = 0.0317\n",
            "  Étape 400: Loss = 0.0288\n",
            "  Étape 500: Loss = 0.0384\n",
            "  Étape 600: Loss = 0.0430\n",
            "  Étape 700: Loss = 0.0338\n",
            "  Étape 800: Loss = 0.0446\n",
            "  Étape 900: Loss = 0.0429\n",
            "Epoch 13/50\n",
            "  Étape 0: Loss = 0.0475\n",
            "  Étape 100: Loss = 0.0306\n",
            "  Étape 200: Loss = 0.0404\n",
            "  Étape 300: Loss = 0.0381\n",
            "  Étape 400: Loss = 0.0372\n",
            "  Étape 500: Loss = 0.0468\n",
            "  Étape 600: Loss = 0.0284\n",
            "  Étape 700: Loss = 0.0345\n",
            "  Étape 800: Loss = 0.0351\n",
            "  Étape 900: Loss = 0.0327\n",
            "Epoch 14/50\n",
            "  Étape 0: Loss = 0.0351\n",
            "  Étape 100: Loss = 0.0318\n",
            "  Étape 200: Loss = 0.0330\n",
            "  Étape 300: Loss = 0.0357\n",
            "  Étape 400: Loss = 0.0527\n",
            "  Étape 500: Loss = 0.0324\n",
            "  Étape 600: Loss = 0.0294\n",
            "  Étape 700: Loss = 0.0320\n",
            "  Étape 800: Loss = 0.0314\n",
            "  Étape 900: Loss = 0.0389\n",
            "Epoch 15/50\n",
            "  Étape 0: Loss = 0.0374\n",
            "  Étape 100: Loss = 0.0389\n",
            "  Étape 200: Loss = 0.0378\n",
            "  Étape 300: Loss = 0.0650\n",
            "  Étape 400: Loss = 0.0392\n",
            "  Étape 500: Loss = 0.0285\n",
            "  Étape 600: Loss = 0.0312\n",
            "  Étape 700: Loss = 0.0298\n",
            "  Étape 800: Loss = 0.0391\n",
            "  Étape 900: Loss = 0.0355\n",
            "Epoch 16/50\n",
            "  Étape 0: Loss = 0.0479\n",
            "  Étape 100: Loss = 0.0367\n",
            "  Étape 200: Loss = 0.0312\n",
            "  Étape 300: Loss = 0.0214\n",
            "  Étape 400: Loss = 0.0376\n",
            "  Étape 500: Loss = 0.0418\n",
            "  Étape 600: Loss = 0.0321\n",
            "  Étape 700: Loss = 0.0340\n",
            "  Étape 800: Loss = 0.0260\n",
            "  Étape 900: Loss = 0.0280\n",
            "Epoch 17/50\n",
            "  Étape 0: Loss = 0.0281\n",
            "  Étape 100: Loss = 0.0432\n",
            "  Étape 200: Loss = 0.0428\n",
            "  Étape 300: Loss = 0.0614\n",
            "  Étape 400: Loss = 0.0347\n",
            "  Étape 500: Loss = 0.0360\n",
            "  Étape 600: Loss = 0.0491\n",
            "  Étape 700: Loss = 0.0406\n",
            "  Étape 800: Loss = 0.0426\n",
            "  Étape 900: Loss = 0.0295\n",
            "Epoch 18/50\n",
            "  Étape 0: Loss = 0.0290\n",
            "  Étape 100: Loss = 0.0371\n",
            "  Étape 200: Loss = 0.0312\n",
            "  Étape 300: Loss = 0.0426\n",
            "  Étape 400: Loss = 0.0272\n",
            "  Étape 500: Loss = 0.0324\n",
            "  Étape 600: Loss = 0.0333\n",
            "  Étape 700: Loss = 0.0243\n",
            "  Étape 800: Loss = 0.0379\n",
            "  Étape 900: Loss = 0.0306\n",
            "Epoch 19/50\n",
            "  Étape 0: Loss = 0.0301\n",
            "  Étape 100: Loss = 0.0458\n",
            "  Étape 200: Loss = 0.0287\n",
            "  Étape 300: Loss = 0.0421\n",
            "  Étape 400: Loss = 0.0279\n",
            "  Étape 500: Loss = 0.0278\n",
            "  Étape 600: Loss = 0.0463\n",
            "  Étape 700: Loss = 0.0353\n",
            "  Étape 800: Loss = 0.0283\n",
            "  Étape 900: Loss = 0.0407\n",
            "Epoch 20/50\n",
            "  Étape 0: Loss = 0.0264\n",
            "  Étape 100: Loss = 0.0331\n",
            "  Étape 200: Loss = 0.0349\n",
            "  Étape 300: Loss = 0.0322\n",
            "  Étape 400: Loss = 0.0351\n",
            "  Étape 500: Loss = 0.0475\n",
            "  Étape 600: Loss = 0.0327\n",
            "  Étape 700: Loss = 0.0317\n",
            "  Étape 800: Loss = 0.0378\n",
            "  Étape 900: Loss = 0.0279\n",
            "Epoch 21/50\n",
            "  Étape 0: Loss = 0.0288\n",
            "  Étape 100: Loss = 0.0346\n",
            "  Étape 200: Loss = 0.0225\n",
            "  Étape 300: Loss = 0.0247\n",
            "  Étape 400: Loss = 0.0355\n",
            "  Étape 500: Loss = 0.0271\n",
            "  Étape 600: Loss = 0.0326\n",
            "  Étape 700: Loss = 0.0366\n",
            "  Étape 800: Loss = 0.0490\n",
            "  Étape 900: Loss = 0.0314\n",
            "Epoch 22/50\n",
            "  Étape 0: Loss = 0.0311\n",
            "  Étape 100: Loss = 0.0322\n",
            "  Étape 200: Loss = 0.0362\n",
            "  Étape 300: Loss = 0.0330\n",
            "  Étape 400: Loss = 0.0251\n",
            "  Étape 500: Loss = 0.0257\n",
            "  Étape 600: Loss = 0.0248\n",
            "  Étape 700: Loss = 0.0267\n",
            "  Étape 800: Loss = 0.0367\n",
            "  Étape 900: Loss = 0.0338\n",
            "Epoch 23/50\n",
            "  Étape 0: Loss = 0.0330\n",
            "  Étape 100: Loss = 0.0344\n",
            "  Étape 200: Loss = 0.0233\n",
            "  Étape 300: Loss = 0.0304\n",
            "  Étape 400: Loss = 0.0305\n",
            "  Étape 500: Loss = 0.0260\n",
            "  Étape 600: Loss = 0.0346\n",
            "  Étape 700: Loss = 0.0276\n",
            "  Étape 800: Loss = 0.0368\n",
            "  Étape 900: Loss = 0.0461\n",
            "Epoch 24/50\n",
            "  Étape 0: Loss = 0.0371\n",
            "  Étape 100: Loss = 0.0269\n",
            "  Étape 200: Loss = 0.0274\n",
            "  Étape 300: Loss = 0.0325\n",
            "  Étape 400: Loss = 0.0191\n",
            "  Étape 500: Loss = 0.0231\n",
            "  Étape 600: Loss = 0.0245\n",
            "  Étape 700: Loss = 0.0380\n",
            "  Étape 800: Loss = 0.0355\n",
            "  Étape 900: Loss = 0.0344\n",
            "Epoch 25/50\n",
            "  Étape 0: Loss = 0.0268\n",
            "  Étape 100: Loss = 0.0293\n",
            "  Étape 200: Loss = 0.0525\n",
            "  Étape 300: Loss = 0.0264\n",
            "  Étape 400: Loss = 0.0248\n",
            "  Étape 500: Loss = 0.0268\n",
            "  Étape 600: Loss = 0.0284\n",
            "  Étape 700: Loss = 0.0266\n",
            "  Étape 800: Loss = 0.0262\n",
            "  Étape 900: Loss = 0.0343\n",
            "Epoch 26/50\n",
            "  Étape 0: Loss = 0.0304\n",
            "  Étape 100: Loss = 0.0281\n",
            "  Étape 200: Loss = 0.0243\n",
            "  Étape 300: Loss = 0.0415\n",
            "  Étape 400: Loss = 0.0276\n",
            "  Étape 500: Loss = 0.0310\n",
            "  Étape 600: Loss = 0.0376\n",
            "  Étape 700: Loss = 0.0318\n",
            "  Étape 800: Loss = 0.0281\n",
            "  Étape 900: Loss = 0.0318\n",
            "Epoch 27/50\n",
            "  Étape 0: Loss = 0.0393\n",
            "  Étape 100: Loss = 0.0289\n",
            "  Étape 200: Loss = 0.0420\n",
            "  Étape 300: Loss = 0.0406\n",
            "  Étape 400: Loss = 0.0294\n",
            "  Étape 500: Loss = 0.0251\n",
            "  Étape 600: Loss = 0.0449\n",
            "  Étape 700: Loss = 0.0282\n",
            "  Étape 800: Loss = 0.0284\n",
            "  Étape 900: Loss = 0.0416\n",
            "Epoch 28/50\n",
            "  Étape 0: Loss = 0.0458\n",
            "  Étape 100: Loss = 0.0221\n",
            "  Étape 200: Loss = 0.0264\n",
            "  Étape 300: Loss = 0.0274\n",
            "  Étape 400: Loss = 0.0277\n",
            "  Étape 500: Loss = 0.0286\n",
            "  Étape 600: Loss = 0.0503\n",
            "  Étape 700: Loss = 0.0429\n",
            "  Étape 800: Loss = 0.0328\n",
            "  Étape 900: Loss = 0.0246\n",
            "Epoch 29/50\n",
            "  Étape 0: Loss = 0.0220\n",
            "  Étape 100: Loss = 0.0310\n",
            "  Étape 200: Loss = 0.0323\n",
            "  Étape 300: Loss = 0.0257\n",
            "  Étape 400: Loss = 0.0477\n",
            "  Étape 500: Loss = 0.0354\n",
            "  Étape 600: Loss = 0.0295\n",
            "  Étape 700: Loss = 0.0356\n",
            "  Étape 800: Loss = 0.0326\n",
            "  Étape 900: Loss = 0.0344\n",
            "Epoch 30/50\n",
            "  Étape 0: Loss = 0.0364\n",
            "  Étape 100: Loss = 0.0304\n",
            "  Étape 200: Loss = 0.0264\n",
            "  Étape 300: Loss = 0.0314\n",
            "  Étape 400: Loss = 0.0299\n",
            "  Étape 500: Loss = 0.0255\n",
            "  Étape 600: Loss = 0.0412\n",
            "  Étape 700: Loss = 0.0298\n",
            "  Étape 800: Loss = 0.0369\n",
            "  Étape 900: Loss = 0.0386\n",
            "Epoch 31/50\n",
            "  Étape 0: Loss = 0.0248\n",
            "  Étape 100: Loss = 0.0257\n",
            "  Étape 200: Loss = 0.0286\n",
            "  Étape 300: Loss = 0.0214\n",
            "  Étape 400: Loss = 0.0248\n",
            "  Étape 500: Loss = 0.0365\n",
            "  Étape 600: Loss = 0.0250\n",
            "  Étape 700: Loss = 0.0347\n",
            "  Étape 800: Loss = 0.0270\n",
            "  Étape 900: Loss = 0.0295\n",
            "Epoch 32/50\n",
            "  Étape 0: Loss = 0.0318\n",
            "  Étape 100: Loss = 0.0362\n",
            "  Étape 200: Loss = 0.0480\n",
            "  Étape 300: Loss = 0.0322\n",
            "  Étape 400: Loss = 0.0304\n",
            "  Étape 500: Loss = 0.0268\n",
            "  Étape 600: Loss = 0.0213\n",
            "  Étape 700: Loss = 0.0339\n",
            "  Étape 800: Loss = 0.0308\n",
            "  Étape 900: Loss = 0.0363\n",
            "Epoch 33/50\n",
            "  Étape 0: Loss = 0.0240\n",
            "  Étape 100: Loss = 0.0432\n",
            "  Étape 200: Loss = 0.0506\n",
            "  Étape 300: Loss = 0.0241\n",
            "  Étape 400: Loss = 0.0324\n",
            "  Étape 500: Loss = 0.0299\n",
            "  Étape 600: Loss = 0.0241\n",
            "  Étape 700: Loss = 0.0278\n",
            "  Étape 800: Loss = 0.0275\n",
            "  Étape 900: Loss = 0.0354\n",
            "Epoch 34/50\n",
            "  Étape 0: Loss = 0.0288\n",
            "  Étape 100: Loss = 0.0298\n",
            "  Étape 200: Loss = 0.0310\n",
            "  Étape 300: Loss = 0.0276\n",
            "  Étape 400: Loss = 0.0277\n",
            "  Étape 500: Loss = 0.0278\n",
            "  Étape 600: Loss = 0.0263\n",
            "  Étape 700: Loss = 0.0458\n",
            "  Étape 800: Loss = 0.0312\n",
            "  Étape 900: Loss = 0.0376\n",
            "Epoch 35/50\n",
            "  Étape 0: Loss = 0.0367\n",
            "  Étape 100: Loss = 0.0282\n",
            "  Étape 200: Loss = 0.0348\n",
            "  Étape 300: Loss = 0.0310\n",
            "  Étape 400: Loss = 0.0245\n",
            "  Étape 500: Loss = 0.0338\n",
            "  Étape 600: Loss = 0.0304\n",
            "  Étape 700: Loss = 0.0332\n",
            "  Étape 800: Loss = 0.0239\n",
            "  Étape 900: Loss = 0.0272\n",
            "Epoch 36/50\n",
            "  Étape 0: Loss = 0.0279\n",
            "  Étape 100: Loss = 0.0359\n",
            "  Étape 200: Loss = 0.0333\n",
            "  Étape 300: Loss = 0.0343\n",
            "  Étape 400: Loss = 0.0306\n",
            "  Étape 500: Loss = 0.0357\n",
            "  Étape 600: Loss = 0.0261\n",
            "  Étape 700: Loss = 0.0349\n",
            "  Étape 800: Loss = 0.0292\n",
            "  Étape 900: Loss = 0.0360\n",
            "Epoch 37/50\n",
            "  Étape 0: Loss = 0.0359\n",
            "  Étape 100: Loss = 0.0223\n",
            "  Étape 200: Loss = 0.0290\n",
            "  Étape 300: Loss = 0.0414\n",
            "  Étape 400: Loss = 0.0245\n",
            "  Étape 500: Loss = 0.0335\n",
            "  Étape 600: Loss = 0.0222\n",
            "  Étape 700: Loss = 0.0327\n",
            "  Étape 800: Loss = 0.0316\n",
            "  Étape 900: Loss = 0.0309\n",
            "Epoch 38/50\n",
            "  Étape 0: Loss = 0.0347\n",
            "  Étape 100: Loss = 0.0303\n",
            "  Étape 200: Loss = 0.0407\n",
            "  Étape 300: Loss = 0.0207\n",
            "  Étape 400: Loss = 0.0315\n",
            "  Étape 500: Loss = 0.0286\n",
            "  Étape 600: Loss = 0.0298\n",
            "  Étape 700: Loss = 0.0224\n",
            "  Étape 800: Loss = 0.0286\n",
            "  Étape 900: Loss = 0.0227\n",
            "Epoch 39/50\n",
            "  Étape 0: Loss = 0.0217\n",
            "  Étape 100: Loss = 0.0415\n",
            "  Étape 200: Loss = 0.0326\n",
            "  Étape 300: Loss = 0.0324\n",
            "  Étape 400: Loss = 0.0284\n",
            "  Étape 500: Loss = 0.0227\n",
            "  Étape 600: Loss = 0.0328\n",
            "  Étape 700: Loss = 0.0366\n",
            "  Étape 800: Loss = 0.0269\n",
            "  Étape 900: Loss = 0.0357\n",
            "Epoch 40/50\n",
            "  Étape 0: Loss = 0.0411\n",
            "  Étape 100: Loss = 0.0336\n",
            "  Étape 200: Loss = 0.0338\n",
            "  Étape 300: Loss = 0.0248\n",
            "  Étape 400: Loss = 0.0299\n",
            "  Étape 500: Loss = 0.0350\n",
            "  Étape 600: Loss = 0.0316\n",
            "  Étape 700: Loss = 0.0281\n",
            "  Étape 800: Loss = 0.0370\n",
            "  Étape 900: Loss = 0.0403\n",
            "Epoch 41/50\n",
            "  Étape 0: Loss = 0.0152\n",
            "  Étape 100: Loss = 0.0337\n",
            "  Étape 200: Loss = 0.0312\n",
            "  Étape 300: Loss = 0.0277\n",
            "  Étape 400: Loss = 0.0208\n",
            "  Étape 500: Loss = 0.0240\n",
            "  Étape 600: Loss = 0.0322\n",
            "  Étape 700: Loss = 0.0238\n",
            "  Étape 800: Loss = 0.0250\n",
            "  Étape 900: Loss = 0.0227\n",
            "Epoch 42/50\n",
            "  Étape 0: Loss = 0.0286\n",
            "  Étape 100: Loss = 0.0358\n",
            "  Étape 200: Loss = 0.0231\n",
            "  Étape 300: Loss = 0.0321\n",
            "  Étape 400: Loss = 0.0243\n",
            "  Étape 500: Loss = 0.0269\n",
            "  Étape 600: Loss = 0.0296\n",
            "  Étape 700: Loss = 0.0288\n",
            "  Étape 800: Loss = 0.0344\n",
            "  Étape 900: Loss = 0.0292\n",
            "Epoch 43/50\n",
            "  Étape 0: Loss = 0.0199\n",
            "  Étape 100: Loss = 0.0307\n",
            "  Étape 200: Loss = 0.0200\n",
            "  Étape 300: Loss = 0.0307\n",
            "  Étape 400: Loss = 0.0288\n",
            "  Étape 500: Loss = 0.0243\n",
            "  Étape 600: Loss = 0.0273\n",
            "  Étape 700: Loss = 0.0340\n",
            "  Étape 800: Loss = 0.0385\n",
            "  Étape 900: Loss = 0.0338\n",
            "Epoch 44/50\n",
            "  Étape 0: Loss = 0.0247\n",
            "  Étape 100: Loss = 0.0313\n",
            "  Étape 200: Loss = 0.0309\n",
            "  Étape 300: Loss = 0.0200\n",
            "  Étape 400: Loss = 0.0339\n",
            "  Étape 500: Loss = 0.0187\n",
            "  Étape 600: Loss = 0.0207\n",
            "  Étape 700: Loss = 0.0315\n",
            "  Étape 800: Loss = 0.0308\n",
            "  Étape 900: Loss = 0.0321\n",
            "Epoch 45/50\n",
            "  Étape 0: Loss = 0.0293\n",
            "  Étape 100: Loss = 0.0379\n",
            "  Étape 200: Loss = 0.0225\n",
            "  Étape 300: Loss = 0.0435\n",
            "  Étape 400: Loss = 0.0217\n",
            "  Étape 500: Loss = 0.0340\n",
            "  Étape 600: Loss = 0.0314\n",
            "  Étape 700: Loss = 0.0303\n",
            "  Étape 800: Loss = 0.0347\n",
            "  Étape 900: Loss = 0.0285\n",
            "Epoch 46/50\n",
            "  Étape 0: Loss = 0.0306\n",
            "  Étape 100: Loss = 0.0365\n",
            "  Étape 200: Loss = 0.0290\n",
            "  Étape 300: Loss = 0.0269\n",
            "  Étape 400: Loss = 0.0258\n",
            "  Étape 500: Loss = 0.0368\n",
            "  Étape 600: Loss = 0.0258\n",
            "  Étape 700: Loss = 0.0305\n",
            "  Étape 800: Loss = 0.0294\n",
            "  Étape 900: Loss = 0.0229\n",
            "Epoch 47/50\n",
            "  Étape 0: Loss = 0.0242\n",
            "  Étape 100: Loss = 0.0382\n",
            "  Étape 200: Loss = 0.0280\n",
            "  Étape 300: Loss = 0.0325\n",
            "  Étape 400: Loss = 0.0255\n",
            "  Étape 500: Loss = 0.0286\n",
            "  Étape 600: Loss = 0.0293\n",
            "  Étape 700: Loss = 0.0343\n",
            "  Étape 800: Loss = 0.0323\n",
            "  Étape 900: Loss = 0.0249\n",
            "Epoch 48/50\n",
            "  Étape 0: Loss = 0.0292\n",
            "  Étape 100: Loss = 0.0303\n",
            "  Étape 200: Loss = 0.0205\n",
            "  Étape 300: Loss = 0.0299\n",
            "  Étape 400: Loss = 0.0358\n",
            "  Étape 500: Loss = 0.0367\n",
            "  Étape 600: Loss = 0.0271\n",
            "  Étape 700: Loss = 0.0204\n",
            "  Étape 800: Loss = 0.0328\n",
            "  Étape 900: Loss = 0.0362\n",
            "Epoch 49/50\n",
            "  Étape 0: Loss = 0.0228\n",
            "  Étape 100: Loss = 0.0255\n",
            "  Étape 200: Loss = 0.0311\n",
            "  Étape 300: Loss = 0.0342\n",
            "  Étape 400: Loss = 0.0353\n",
            "  Étape 500: Loss = 0.0327\n",
            "  Étape 600: Loss = 0.0360\n",
            "  Étape 700: Loss = 0.0231\n",
            "  Étape 800: Loss = 0.0209\n",
            "  Étape 900: Loss = 0.0460\n",
            "Epoch 50/50\n",
            "  Étape 0: Loss = 0.0279\n",
            "  Étape 100: Loss = 0.0316\n",
            "  Étape 200: Loss = 0.0565\n",
            "  Étape 300: Loss = 0.0260\n",
            "  Étape 400: Loss = 0.0236\n",
            "  Étape 500: Loss = 0.0313\n",
            "  Étape 600: Loss = 0.0269\n",
            "  Étape 700: Loss = 0.0314\n",
            "  Étape 800: Loss = 0.0264\n",
            "  Étape 900: Loss = 0.0369\n"
          ]
        }
      ],
      "source": [
        "# Training loop\n",
        "epochs = 50\n",
        "for epoch in range(epochs):\n",
        "    print(f\"Epoch {epoch+1}/{epochs}\")\n",
        "    for step, batch in enumerate(dataset):\n",
        "        loss_val = train_step(batch)\n",
        "        if step % 100 == 0:\n",
        "            print(f\"  Step {step}: Loss = {loss_val.numpy():.4f}\")"
      ]
    },
    {
      "cell_type": "code",
      "execution_count": null,
      "metadata": {
        "id": "K1pUqZFRp3pF"
      },
      "outputs": [],
      "source": [
        "betas_np = betas\n",
        "alphas_np = alphas\n",
        "# alpha_bars is a tensor, so we can do:\n",
        "alpha_bars_np = alpha_bars.numpy()\n",
        "\n",
        "# Calculate the \"corrected variance\" (tilde_betas)\n",
        "tilde_betas = np.zeros_like(betas_np)\n",
        "for i in range(T):\n",
        "    if i == 0:\n",
        "        tilde_betas[i] = betas_np[i]\n",
        "    else:\n",
        "        # Formula: beta_t * (1 - alpha_bar_{t-1}) / (1 - alpha_bar_t)\n",
        "        tilde_betas[i] = betas_np[i] * (1.0 - alpha_bars_np[i-1]) / (1.0 - alpha_bars_np[i])\n"
      ]
    },
    {
      "cell_type": "code",
      "execution_count": null,
      "metadata": {
        "id": "-qb2P_yjy_XK"
      },
      "outputs": [],
      "source": [
        "def generate_image():\n",
        "    # Start from pure Gaussian noise\n",
        "    x = tf.random.normal((1, 28, 28, 1))\n",
        "\n",
        "    # Iterate backwards from t = T-1 down to 0\n",
        "    for t in reversed(range(T)):\n",
        "        # Normalize the timestep\n",
        "        t_norm = tf.cast([t], tf.float32) / T\n",
        "        t_norm = tf.reshape(t_norm, (1, 1))\n",
        "\n",
        "        # Predict the noise using the model\n",
        "        pred_noise = model([x, t_norm], training=False)\n",
        "\n",
        "        # Retrieve parameters\n",
        "        alpha_t = alphas_np[t]\n",
        "        alpha_bar_t = alpha_bars_np[t]\n",
        "        one_minus_alpha_t = 1.0 - alpha_t\n",
        "\n",
        "        # Update (the \"mu_t\" part)\n",
        "        x = (1 / np.sqrt(alpha_t)) * (\n",
        "            x - (one_minus_alpha_t / np.sqrt(1.0 - alpha_bar_t)) * pred_noise\n",
        "        )\n",
        "\n",
        "        # Add noise only if t > 0\n",
        "        if t > 0:\n",
        "            sigma_t = np.sqrt(tilde_betas[t])\n",
        "            noise = tf.random.normal(tf.shape(x))\n",
        "            x = x + sigma_t * noise\n",
        "\n",
        "    return x\n"
      ]
    },
    {
      "cell_type": "markdown",
      "metadata": {
        "id": "MoVPDy42-uYZ"
      },
      "source": [
        "The generate_image function implements the reverse diffusion process to transform pure Gaussian noise into a coherent image. It starts with a random noise tensor and iteratively refines it by stepping backwards through the diffusion timesteps. At each step, the function normalizes the current timestep, uses the trained model to predict the noise component in the current image estimate, and then updates the image by removing this predicted noise based on the diffusion parameters. Additionally, controlled noise is reintroduced at each step (except the final one) to maintain the stochastic nature of the process. This gradual denoising ultimately reconstructs a realistic image from random noise."
      ]
    },
    {
      "cell_type": "code",
      "execution_count": null,
      "metadata": {
        "colab": {
          "base_uri": "https://localhost:8080/",
          "height": 290
        },
        "id": "67tFwClhzFPv",
        "outputId": "a2190423-ec90-47a1-f7ce-ed2ac5b157d8"
      },
      "outputs": [
        {
          "data": {
            "image/png": "[encoded data removed]",
            "text/plain": [
              "<Figure size 300x300 with 1 Axes>"
            ]
          },
          "metadata": {},
          "output_type": "display_data"
        }
      ],
      "source": [
        "generated = generate_image()\n",
        "\n",
        "# Display the generated image\n",
        "plt.figure(figsize=(3,3))\n",
        "plt.imshow(generated[0,...,0], cmap='gray')\n",
        "plt.axis('off')\n",
        "plt.title(\"Generated Image\")\n",
        "plt.show()"
      ]
    },
    {
      "cell_type": "markdown",
      "metadata": {
        "id": "rv6r4AFy-wVM"
      },
      "source": [
        "While the denoised digit is recognizable as an “8,” the reconstruction still shows some imperfections. This suggests that there is room to improve the model or explore alternative approaches (e.g., different architectures, hyperparameters, or diffusion schedules) to achieve sharper, more detailed results."
      ]
    },
    {
      "cell_type": "markdown",
      "metadata": {
        "id": "4dothAwsCsYb"
      },
      "source": [
        "---"
      ]
    },
    {
      "cell_type": "markdown",
      "metadata": {
        "id": "pjlP_EY3IitI"
      },
      "source": [
        "6. Discussion:\n",
        "\n",
        "What happens if we change the noise schedule?\n",
        "\n",
        "- Answer:\n",
        "Changing the noise schedule means adjusting how much noise is added at each diffusion step. A higher or more aggressive noise schedule can make the data harder to reconstruct, but it may also encourage the model to learn more robust features. Conversely, a slower or gentler noise schedule might make the training more stable but could lead to less diverse or lower-quality samples. Overall, the noise schedule controls the balance between stability in training and the richness of the generated outputs.\n",
        "\n",
        "How do diffusion models compare to GANs?\n",
        "\n",
        "- Answer:\n",
        "Diffusion models and GANs are both powerful generative approaches but differ in their training strategies. Diffusion models gradually corrupt and then reconstruct data, which often leads to stable training and high-quality samples but can be slower during sampling. GANs, on the other hand, rely on an adversarial setup between a generator and a discriminator, which can be faster to sample from but sometimes suffer from instability issues like mode collapse. In practice, diffusion models are praised for their consistency and detail, while GANs are valued for their speed and flexibility.\n"
      ]
    },
    {
      "cell_type": "markdown",
      "metadata": {
        "id": "X1ze5JyuCqji"
      },
      "source": [
        "---"
      ]
    },
    {
      "cell_type": "markdown",
      "metadata": {
        "id": "U0C5J7qJIvB6"
      },
      "source": [
        "Final Reflection\n",
        "How does function inversion relate to diffusion models?\n",
        "\n",
        "- Answer:\n",
        "Function inversion in the context of diffusion models involves reversing the noise-adding process. During training, the model learns how data is corrupted step by step (the forward process). During sampling, the model “inverts” this function by removing noise iteratively, effectively reconstructing the original image from a noisy input. This reversal is key to generating new samples that match the distribution of the training data.\n",
        "\n",
        "How does iterative noise removal help generate realistic images?\n",
        "\n",
        "- Answer:\n",
        "By gradually removing noise at each step, the model refines the image progressively. Early steps remove large-scale distortions, while later steps focus on subtle details. This staged denoising process allows the model to carefully reconstruct features, leading to crisp and coherent results. Each iteration uses the learned knowledge of the data distribution to guide the noise removal, producing more realistic images over time.\n",
        "\n",
        "Potential applications of diffusion models (e.g., text-to-image generation like Stable\n",
        "Diffusion)\n",
        "\n",
        "- Answer:\n",
        "Diffusion models are versatile and can be applied to a wide range of tasks. They excel in text-to-image generation, where they transform text prompts into high-quality images, as demonstrated by systems like Stable Diffusion. Beyond that, they can be used for image inpainting (filling in missing parts), super-resolution (enhancing image quality), and other creative applications such as style transfer or artistic image generation."
      ]
    }
  ],
  "metadata": {
    "accelerator": "GPU",
    "colab": {
      "gpuType": "T4",
      "provenance": []
    },
    "kernelspec": {
      "display_name": "Python 3",
      "name": "python3"
    },
    "language_info": {
      "name": "python"
    },
    "widgets": {
      "application/vnd.jupyter.widget-state+json": {
        "0541d45553a24fd3bb505168917eaa58": {
          "model_module": "@jupyter-widgets/controls",
          "model_module_version": "1.5.0",
          "model_name": "FloatProgressModel",
          "state": {
            "_dom_classes": [],
            "_model_module": "@jupyter-widgets/controls",
            "_model_module_version": "1.5.0",
            "_model_name": "FloatProgressModel",
            "_view_count": null,
            "_view_module": "@jupyter-widgets/controls",
            "_view_module_version": "1.5.0",
            "_view_name": "ProgressView",
            "bar_style": "",
            "description": "",
            "description_tooltip": null,
            "layout": "IPY_MODEL_af269babc106416f986769c6bc529563",
            "max": 7,
            "min": 0,
            "orientation": "horizontal",
            "style": "IPY_MODEL_56a89355a5e2413db827899cc4f56a36",
            "value": 7
          }
        },
        "10b033e5860c4c2083b3137da5e0ae6f": {
          "model_module": "@jupyter-widgets/controls",
          "model_module_version": "1.5.0",
          "model_name": "HTMLModel",
          "state": {
            "_dom_classes": [],
            "_model_module": "@jupyter-widgets/controls",
            "_model_module_version": "1.5.0",
            "_model_name": "HTMLModel",
            "_view_count": null,
            "_view_module": "@jupyter-widgets/controls",
            "_view_module_version": "1.5.0",
            "_view_name": "HTMLView",
            "description": "",
            "description_tooltip": null,
            "layout": "IPY_MODEL_2322fc47e1ea4387b8c4f20353b58312",
            "placeholder": "​",
            "style": "IPY_MODEL_a59f09181c2e40f4b2063add500ce1db",
            "value": " 0.00/7.00 [00:00&lt;?, ?batch/s, loss=0.000736]"
          }
        },
        "125de5d55aa743ed892a0d8282a916f2": {
          "model_module": "@jupyter-widgets/base",
          "model_module_version": "1.2.0",
          "model_name": "LayoutModel",
          "state": {
            "_model_module": "@jupyter-widgets/base",
            "_model_module_version": "1.2.0",
            "_model_name": "LayoutModel",
            "_view_count": null,
            "_view_module": "@jupyter-widgets/base",
            "_view_module_version": "1.2.0",
            "_view_name": "LayoutView",
            "align_content": null,
            "align_items": null,
            "align_self": null,
            "border": null,
            "bottom": null,
            "display": null,
            "flex": null,
            "flex_flow": null,
            "grid_area": null,
            "grid_auto_columns": null,
            "grid_auto_flow": null,
            "grid_auto_rows": null,
            "grid_column": null,
            "grid_gap": null,
            "grid_row": null,
            "grid_template_areas": null,
            "grid_template_columns": null,
            "grid_template_rows": null,
            "height": null,
            "justify_content": null,
            "justify_items": null,
            "left": null,
            "margin": null,
            "max_height": null,
            "max_width": null,
            "min_height": null,
            "min_width": null,
            "object_fit": null,
            "object_position": null,
            "order": null,
            "overflow": null,
            "overflow_x": null,
            "overflow_y": null,
            "padding": null,
            "right": null,
            "top": null,
            "visibility": "hidden",
            "width": null
          }
        },
        "2322fc47e1ea4387b8c4f20353b58312": {
          "model_module": "@jupyter-widgets/base",
          "model_module_version": "1.2.0",
          "model_name": "LayoutModel",
          "state": {
            "_model_module": "@jupyter-widgets/base",
            "_model_module_version": "1.2.0",
            "_model_name": "LayoutModel",
            "_view_count": null,
            "_view_module": "@jupyter-widgets/base",
            "_view_module_version": "1.2.0",
            "_view_name": "LayoutView",
            "align_content": null,
            "align_items": null,
            "align_self": null,
            "border": null,
            "bottom": null,
            "display": null,
            "flex": null,
            "flex_flow": null,
            "grid_area": null,
            "grid_auto_columns": null,
            "grid_auto_flow": null,
            "grid_auto_rows": null,
            "grid_column": null,
            "grid_gap": null,
            "grid_row": null,
            "grid_template_areas": null,
            "grid_template_columns": null,
            "grid_template_rows": null,
            "height": null,
            "justify_content": null,
            "justify_items": null,
            "left": null,
            "margin": null,
            "max_height": null,
            "max_width": null,
            "min_height": null,
            "min_width": null,
            "object_fit": null,
            "object_position": null,
            "order": null,
            "overflow": null,
            "overflow_x": null,
            "overflow_y": null,
            "padding": null,
            "right": null,
            "top": null,
            "visibility": null,
            "width": null
          }
        },
        "56a89355a5e2413db827899cc4f56a36": {
          "model_module": "@jupyter-widgets/controls",
          "model_module_version": "1.5.0",
          "model_name": "ProgressStyleModel",
          "state": {
            "_model_module": "@jupyter-widgets/controls",
            "_model_module_version": "1.5.0",
            "_model_name": "ProgressStyleModel",
            "_view_count": null,
            "_view_module": "@jupyter-widgets/base",
            "_view_module_version": "1.2.0",
            "_view_name": "StyleView",
            "bar_color": null,
            "description_width": ""
          }
        },
        "625830fbd7064ed9b62ee444320a7c37": {
          "model_module": "@jupyter-widgets/controls",
          "model_module_version": "1.5.0",
          "model_name": "DescriptionStyleModel",
          "state": {
            "_model_module": "@jupyter-widgets/controls",
            "_model_module_version": "1.5.0",
            "_model_name": "DescriptionStyleModel",
            "_view_count": null,
            "_view_module": "@jupyter-widgets/base",
            "_view_module_version": "1.2.0",
            "_view_name": "StyleView",
            "description_width": ""
          }
        },
        "6aa3ccd6a70447e18c7906dfba5f3009": {
          "model_module": "@jupyter-widgets/controls",
          "model_module_version": "1.5.0",
          "model_name": "FloatProgressModel",
          "state": {
            "_dom_classes": [],
            "_model_module": "@jupyter-widgets/controls",
            "_model_module_version": "1.5.0",
            "_model_name": "FloatProgressModel",
            "_view_count": null,
            "_view_module": "@jupyter-widgets/controls",
            "_view_module_version": "1.5.0",
            "_view_name": "ProgressView",
            "bar_style": "success",
            "description": "",
            "description_tooltip": null,
            "layout": "IPY_MODEL_7c7496956e6b4bb1bf2fc0d55b2f1535",
            "max": 500,
            "min": 0,
            "orientation": "horizontal",
            "style": "IPY_MODEL_d2d56f9c5e7a430b9a3d058a361ec858",
            "value": 500
          }
        },
        "6ac892598bce4062a4e3094f67e4c77f": {
          "model_module": "@jupyter-widgets/controls",
          "model_module_version": "1.5.0",
          "model_name": "DescriptionStyleModel",
          "state": {
            "_model_module": "@jupyter-widgets/controls",
            "_model_module_version": "1.5.0",
            "_model_name": "DescriptionStyleModel",
            "_view_count": null,
            "_view_module": "@jupyter-widgets/base",
            "_view_module_version": "1.2.0",
            "_view_name": "StyleView",
            "description_width": ""
          }
        },
        "752ba833f3c24391a05e0a6dfece63b7": {
          "model_module": "@jupyter-widgets/controls",
          "model_module_version": "1.5.0",
          "model_name": "HTMLModel",
          "state": {
            "_dom_classes": [],
            "_model_module": "@jupyter-widgets/controls",
            "_model_module_version": "1.5.0",
            "_model_name": "HTMLModel",
            "_view_count": null,
            "_view_module": "@jupyter-widgets/controls",
            "_view_module_version": "1.5.0",
            "_view_name": "HTMLView",
            "description": "",
            "description_tooltip": null,
            "layout": "IPY_MODEL_b01bd672a7874b598e051db938a86f91",
            "placeholder": "​",
            "style": "IPY_MODEL_625830fbd7064ed9b62ee444320a7c37",
            "value": "  0%"
          }
        },
        "7c7496956e6b4bb1bf2fc0d55b2f1535": {
          "model_module": "@jupyter-widgets/base",
          "model_module_version": "1.2.0",
          "model_name": "LayoutModel",
          "state": {
            "_model_module": "@jupyter-widgets/base",
            "_model_module_version": "1.2.0",
            "_model_name": "LayoutModel",
            "_view_count": null,
            "_view_module": "@jupyter-widgets/base",
            "_view_module_version": "1.2.0",
            "_view_name": "LayoutView",
            "align_content": null,
            "align_items": null,
            "align_self": null,
            "border": null,
            "bottom": null,
            "display": null,
            "flex": null,
            "flex_flow": null,
            "grid_area": null,
            "grid_auto_columns": null,
            "grid_auto_flow": null,
            "grid_auto_rows": null,
            "grid_column": null,
            "grid_gap": null,
            "grid_row": null,
            "grid_template_areas": null,
            "grid_template_columns": null,
            "grid_template_rows": null,
            "height": null,
            "justify_content": null,
            "justify_items": null,
            "left": null,
            "margin": null,
            "max_height": null,
            "max_width": null,
            "min_height": null,
            "min_width": null,
            "object_fit": null,
            "object_position": null,
            "order": null,
            "overflow": null,
            "overflow_x": null,
            "overflow_y": null,
            "padding": null,
            "right": null,
            "top": null,
            "visibility": null,
            "width": null
          }
        },
        "81b1911a4a064d7f884fbccc973d1c30": {
          "model_module": "@jupyter-widgets/base",
          "model_module_version": "1.2.0",
          "model_name": "LayoutModel",
          "state": {
            "_model_module": "@jupyter-widgets/base",
            "_model_module_version": "1.2.0",
            "_model_name": "LayoutModel",
            "_view_count": null,
            "_view_module": "@jupyter-widgets/base",
            "_view_module_version": "1.2.0",
            "_view_name": "LayoutView",
            "align_content": null,
            "align_items": null,
            "align_self": null,
            "border": null,
            "bottom": null,
            "display": null,
            "flex": null,
            "flex_flow": null,
            "grid_area": null,
            "grid_auto_columns": null,
            "grid_auto_flow": null,
            "grid_auto_rows": null,
            "grid_column": null,
            "grid_gap": null,
            "grid_row": null,
            "grid_template_areas": null,
            "grid_template_columns": null,
            "grid_template_rows": null,
            "height": null,
            "justify_content": null,
            "justify_items": null,
            "left": null,
            "margin": null,
            "max_height": null,
            "max_width": null,
            "min_height": null,
            "min_width": null,
            "object_fit": null,
            "object_position": null,
            "order": null,
            "overflow": null,
            "overflow_x": null,
            "overflow_y": null,
            "padding": null,
            "right": null,
            "top": null,
            "visibility": null,
            "width": null
          }
        },
        "8f576a43c1b748a0a53a4b099051c16c": {
          "model_module": "@jupyter-widgets/controls",
          "model_module_version": "1.5.0",
          "model_name": "HTMLModel",
          "state": {
            "_dom_classes": [],
            "_model_module": "@jupyter-widgets/controls",
            "_model_module_version": "1.5.0",
            "_model_name": "HTMLModel",
            "_view_count": null,
            "_view_module": "@jupyter-widgets/controls",
            "_view_module_version": "1.5.0",
            "_view_name": "HTMLView",
            "description": "",
            "description_tooltip": null,
            "layout": "IPY_MODEL_81b1911a4a064d7f884fbccc973d1c30",
            "placeholder": "​",
            "style": "IPY_MODEL_6ac892598bce4062a4e3094f67e4c77f",
            "value": "100%"
          }
        },
        "9b764ab38d1d41a5b3929071cb1ee5ac": {
          "model_module": "@jupyter-widgets/controls",
          "model_module_version": "1.5.0",
          "model_name": "DescriptionStyleModel",
          "state": {
            "_model_module": "@jupyter-widgets/controls",
            "_model_module_version": "1.5.0",
            "_model_name": "DescriptionStyleModel",
            "_view_count": null,
            "_view_module": "@jupyter-widgets/base",
            "_view_module_version": "1.2.0",
            "_view_name": "StyleView",
            "description_width": ""
          }
        },
        "a59f09181c2e40f4b2063add500ce1db": {
          "model_module": "@jupyter-widgets/controls",
          "model_module_version": "1.5.0",
          "model_name": "DescriptionStyleModel",
          "state": {
            "_model_module": "@jupyter-widgets/controls",
            "_model_module_version": "1.5.0",
            "_model_name": "DescriptionStyleModel",
            "_view_count": null,
            "_view_module": "@jupyter-widgets/base",
            "_view_module_version": "1.2.0",
            "_view_name": "StyleView",
            "description_width": ""
          }
        },
        "af269babc106416f986769c6bc529563": {
          "model_module": "@jupyter-widgets/base",
          "model_module_version": "1.2.0",
          "model_name": "LayoutModel",
          "state": {
            "_model_module": "@jupyter-widgets/base",
            "_model_module_version": "1.2.0",
            "_model_name": "LayoutModel",
            "_view_count": null,
            "_view_module": "@jupyter-widgets/base",
            "_view_module_version": "1.2.0",
            "_view_name": "LayoutView",
            "align_content": null,
            "align_items": null,
            "align_self": null,
            "border": null,
            "bottom": null,
            "display": null,
            "flex": null,
            "flex_flow": null,
            "grid_area": null,
            "grid_auto_columns": null,
            "grid_auto_flow": null,
            "grid_auto_rows": null,
            "grid_column": null,
            "grid_gap": null,
            "grid_row": null,
            "grid_template_areas": null,
            "grid_template_columns": null,
            "grid_template_rows": null,
            "height": null,
            "justify_content": null,
            "justify_items": null,
            "left": null,
            "margin": null,
            "max_height": null,
            "max_width": null,
            "min_height": null,
            "min_width": null,
            "object_fit": null,
            "object_position": null,
            "order": null,
            "overflow": null,
            "overflow_x": null,
            "overflow_y": null,
            "padding": null,
            "right": null,
            "top": null,
            "visibility": null,
            "width": null
          }
        },
        "b01bd672a7874b598e051db938a86f91": {
          "model_module": "@jupyter-widgets/base",
          "model_module_version": "1.2.0",
          "model_name": "LayoutModel",
          "state": {
            "_model_module": "@jupyter-widgets/base",
            "_model_module_version": "1.2.0",
            "_model_name": "LayoutModel",
            "_view_count": null,
            "_view_module": "@jupyter-widgets/base",
            "_view_module_version": "1.2.0",
            "_view_name": "LayoutView",
            "align_content": null,
            "align_items": null,
            "align_self": null,
            "border": null,
            "bottom": null,
            "display": null,
            "flex": null,
            "flex_flow": null,
            "grid_area": null,
            "grid_auto_columns": null,
            "grid_auto_flow": null,
            "grid_auto_rows": null,
            "grid_column": null,
            "grid_gap": null,
            "grid_row": null,
            "grid_template_areas": null,
            "grid_template_columns": null,
            "grid_template_rows": null,
            "height": null,
            "justify_content": null,
            "justify_items": null,
            "left": null,
            "margin": null,
            "max_height": null,
            "max_width": null,
            "min_height": null,
            "min_width": null,
            "object_fit": null,
            "object_position": null,
            "order": null,
            "overflow": null,
            "overflow_x": null,
            "overflow_y": null,
            "padding": null,
            "right": null,
            "top": null,
            "visibility": null,
            "width": null
          }
        },
        "bb879368f8b9459a9ba7f0c34c3784fb": {
          "model_module": "@jupyter-widgets/base",
          "model_module_version": "1.2.0",
          "model_name": "LayoutModel",
          "state": {
            "_model_module": "@jupyter-widgets/base",
            "_model_module_version": "1.2.0",
            "_model_name": "LayoutModel",
            "_view_count": null,
            "_view_module": "@jupyter-widgets/base",
            "_view_module_version": "1.2.0",
            "_view_name": "LayoutView",
            "align_content": null,
            "align_items": null,
            "align_self": null,
            "border": null,
            "bottom": null,
            "display": null,
            "flex": null,
            "flex_flow": null,
            "grid_area": null,
            "grid_auto_columns": null,
            "grid_auto_flow": null,
            "grid_auto_rows": null,
            "grid_column": null,
            "grid_gap": null,
            "grid_row": null,
            "grid_template_areas": null,
            "grid_template_columns": null,
            "grid_template_rows": null,
            "height": null,
            "justify_content": null,
            "justify_items": null,
            "left": null,
            "margin": null,
            "max_height": null,
            "max_width": null,
            "min_height": null,
            "min_width": null,
            "object_fit": null,
            "object_position": null,
            "order": null,
            "overflow": null,
            "overflow_x": null,
            "overflow_y": null,
            "padding": null,
            "right": null,
            "top": null,
            "visibility": null,
            "width": null
          }
        },
        "d2d56f9c5e7a430b9a3d058a361ec858": {
          "model_module": "@jupyter-widgets/controls",
          "model_module_version": "1.5.0",
          "model_name": "ProgressStyleModel",
          "state": {
            "_model_module": "@jupyter-widgets/controls",
            "_model_module_version": "1.5.0",
            "_model_name": "ProgressStyleModel",
            "_view_count": null,
            "_view_module": "@jupyter-widgets/base",
            "_view_module_version": "1.2.0",
            "_view_name": "StyleView",
            "bar_color": null,
            "description_width": ""
          }
        },
        "dc1269b61a2043d49fc1096d4a87615b": {
          "model_module": "@jupyter-widgets/controls",
          "model_module_version": "1.5.0",
          "model_name": "HTMLModel",
          "state": {
            "_dom_classes": [],
            "_model_module": "@jupyter-widgets/controls",
            "_model_module_version": "1.5.0",
            "_model_name": "HTMLModel",
            "_view_count": null,
            "_view_module": "@jupyter-widgets/controls",
            "_view_module_version": "1.5.0",
            "_view_name": "HTMLView",
            "description": "",
            "description_tooltip": null,
            "layout": "IPY_MODEL_f7a6e84a46834e878d56a8c3e1f27139",
            "placeholder": "​",
            "style": "IPY_MODEL_9b764ab38d1d41a5b3929071cb1ee5ac",
            "value": " 500/500 [00:32&lt;00:00, 18.04epoch/s, loss=0.000734]"
          }
        },
        "f2c9b88e05654ebe980513b78d453e73": {
          "model_module": "@jupyter-widgets/controls",
          "model_module_version": "1.5.0",
          "model_name": "HBoxModel",
          "state": {
            "_dom_classes": [],
            "_model_module": "@jupyter-widgets/controls",
            "_model_module_version": "1.5.0",
            "_model_name": "HBoxModel",
            "_view_count": null,
            "_view_module": "@jupyter-widgets/controls",
            "_view_module_version": "1.5.0",
            "_view_name": "HBoxView",
            "box_style": "",
            "children": [
              "IPY_MODEL_8f576a43c1b748a0a53a4b099051c16c",
              "IPY_MODEL_6aa3ccd6a70447e18c7906dfba5f3009",
              "IPY_MODEL_dc1269b61a2043d49fc1096d4a87615b"
            ],
            "layout": "IPY_MODEL_bb879368f8b9459a9ba7f0c34c3784fb"
          }
        },
        "f7a6e84a46834e878d56a8c3e1f27139": {
          "model_module": "@jupyter-widgets/base",
          "model_module_version": "1.2.0",
          "model_name": "LayoutModel",
          "state": {
            "_model_module": "@jupyter-widgets/base",
            "_model_module_version": "1.2.0",
            "_model_name": "LayoutModel",
            "_view_count": null,
            "_view_module": "@jupyter-widgets/base",
            "_view_module_version": "1.2.0",
            "_view_name": "LayoutView",
            "align_content": null,
            "align_items": null,
            "align_self": null,
            "border": null,
            "bottom": null,
            "display": null,
            "flex": null,
            "flex_flow": null,
            "grid_area": null,
            "grid_auto_columns": null,
            "grid_auto_flow": null,
            "grid_auto_rows": null,
            "grid_column": null,
            "grid_gap": null,
            "grid_row": null,
            "grid_template_areas": null,
            "grid_template_columns": null,
            "grid_template_rows": null,
            "height": null,
            "justify_content": null,
            "justify_items": null,
            "left": null,
            "margin": null,
            "max_height": null,
            "max_width": null,
            "min_height": null,
            "min_width": null,
            "object_fit": null,
            "object_position": null,
            "order": null,
            "overflow": null,
            "overflow_x": null,
            "overflow_y": null,
            "padding": null,
            "right": null,
            "top": null,
            "visibility": null,
            "width": null
          }
        },
        "fc0e849892ce4a07b0976fdf4c2c010d": {
          "model_module": "@jupyter-widgets/controls",
          "model_module_version": "1.5.0",
          "model_name": "HBoxModel",
          "state": {
            "_dom_classes": [],
            "_model_module": "@jupyter-widgets/controls",
            "_model_module_version": "1.5.0",
            "_model_name": "HBoxModel",
            "_view_count": null,
            "_view_module": "@jupyter-widgets/controls",
            "_view_module_version": "1.5.0",
            "_view_name": "HBoxView",
            "box_style": "",
            "children": [
              "IPY_MODEL_752ba833f3c24391a05e0a6dfece63b7",
              "IPY_MODEL_0541d45553a24fd3bb505168917eaa58",
              "IPY_MODEL_10b033e5860c4c2083b3137da5e0ae6f"
            ],
            "layout": "IPY_MODEL_125de5d55aa743ed892a0d8282a916f2"
          }
        }
      }
    }
  },
  "nbformat": 4,
  "nbformat_minor": 0
}
